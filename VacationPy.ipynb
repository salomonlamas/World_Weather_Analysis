{
 "cells": [
  {
   "cell_type": "code",
   "execution_count": 1,
   "metadata": {},
   "outputs": [],
   "source": [
    "# Dependencies\n",
    "import random\n",
    "import timeit\n",
    "import numpy as np\n",
    "import pandas as pd\n",
    "import matplotlib.pyplot as plt\n",
    "from citipy import citipy\n",
    "import requests\n",
    "from datetime import datetime\n",
    "# API source\n",
    "from config import weather_api_key"
   ]
  },
  {
   "cell_type": "code",
   "execution_count": 2,
   "metadata": {},
   "outputs": [],
   "source": [
    "# Create a practice set of random latitude and longitude combinations.\n",
    "x = [25.12903645, 25.92017388, 26.62509167, -59.98969384, 37.30571269]\n",
    "y = [-67.59741259, 11.09532135, 74.84233102, -76.89176677, -61.13376282]\n",
    "coordinates = zip(x, y)"
   ]
  },
  {
   "cell_type": "code",
   "execution_count": 3,
   "metadata": {},
   "outputs": [
    {
     "name": "stdout",
     "output_type": "stream",
     "text": [
      "25.12903645 -67.59741259\n",
      "25.92017388 11.09532135\n",
      "26.62509167 74.84233102\n",
      "-59.98969384 -76.89176677\n",
      "37.30571269 -61.13376282\n"
     ]
    }
   ],
   "source": [
    "for coordinate in coordinates:\n",
    "    print(coordinate[0],coordinate[1])"
   ]
  },
  {
   "cell_type": "code",
   "execution_count": 4,
   "metadata": {},
   "outputs": [
    {
     "name": "stdout",
     "output_type": "stream",
     "text": [
      "52.70182331537012 -45.530609575373944\n"
     ]
    }
   ],
   "source": [
    "# Add the latitudes and longitudes to a list.\n",
    "#lat_lngs = zip(*lat_lngs)\n",
    "#coordinates = list(lat_lngs)\n",
    "lats = np.random.uniform(-90,90,size=1500)\n",
    "lngs = np.random.uniform(-180,180,size=1500)\n",
    "lat_lngs = zip(lats,lngs)\n",
    "\n",
    "for lat_lng in lat_lngs:\n",
    "    print(lat_lng[0],lat_lng[1])\n",
    "    break"
   ]
  },
  {
   "cell_type": "code",
   "execution_count": 5,
   "metadata": {},
   "outputs": [
    {
     "name": "stdout",
     "output_type": "stream",
     "text": [
      "622\n"
     ]
    }
   ],
   "source": [
    "# Create list for holding the cities\n",
    "cities = []\n",
    "\n",
    "# Identify the nearest city for each lat and long combo\n",
    "for lat_lng in lat_lngs:\n",
    "    city = citipy.nearest_city(lat_lng[0],lat_lng[1]).city_name\n",
    "    \n",
    "    # Filter out dupes\n",
    "    if city not in cities:\n",
    "        cities.append(city)\n",
    "# confirmation\n",
    "print(len(cities))"
   ]
  },
  {
   "cell_type": "code",
   "execution_count": 6,
   "metadata": {},
   "outputs": [
    {
     "name": "stdout",
     "output_type": "stream",
     "text": [
      "http://api.openweathermap.org/data/2.5/weather?units=Imperial&APPID=c777755f1537ae28f437f017b5d96844\n"
     ]
    }
   ],
   "source": [
    "# URL for Weahter Map API Call\n",
    "\n",
    "url = \"http://api.openweathermap.org/data/2.5/weather?units=Imperial&APPID=\" + weather_api_key\n",
    "print(url)"
   ]
  },
  {
   "cell_type": "code",
   "execution_count": 7,
   "metadata": {},
   "outputs": [],
   "source": [
    "query_url = url + \"appid\" + weather_api_key"
   ]
  },
  {
   "cell_type": "code",
   "execution_count": 8,
   "metadata": {},
   "outputs": [
    {
     "name": "stdout",
     "output_type": "stream",
     "text": [
      "http://api.openweathermap.org/data/2.5/weather?units=Imperial&APPID=c777755f1537ae28f437f017b5d96844&q=Boston\n"
     ]
    }
   ],
   "source": [
    "# Create an endpoint URL for a city.\n",
    "city_url = url + \"&q=\" + \"Boston\"\n",
    "print(city_url)"
   ]
  },
  {
   "cell_type": "code",
   "execution_count": 9,
   "metadata": {},
   "outputs": [
    {
     "data": {
      "text/plain": [
       "{'coord': {'lon': -71.06, 'lat': 42.36},\n",
       " 'weather': [{'id': 803,\n",
       "   'main': 'Clouds',\n",
       "   'description': 'broken clouds',\n",
       "   'icon': '04d'}],\n",
       " 'base': 'stations',\n",
       " 'main': {'temp': 87.4,\n",
       "  'feels_like': 84.36,\n",
       "  'temp_min': 84,\n",
       "  'temp_max': 90,\n",
       "  'pressure': 1007,\n",
       "  'humidity': 48},\n",
       " 'visibility': 16093,\n",
       " 'wind': {'speed': 14.99, 'deg': 190},\n",
       " 'clouds': {'all': 75},\n",
       " 'dt': 1592942763,\n",
       " 'sys': {'type': 1,\n",
       "  'id': 3486,\n",
       "  'country': 'US',\n",
       "  'sunrise': 1592903286,\n",
       "  'sunset': 1592958295},\n",
       " 'timezone': -14400,\n",
       " 'id': 4930956,\n",
       " 'name': 'Boston',\n",
       " 'cod': 200}"
      ]
     },
     "execution_count": 9,
     "metadata": {},
     "output_type": "execute_result"
    }
   ],
   "source": [
    "city_weather = requests.get(city_url)\n",
    "city_weather.json()"
   ]
  },
  {
   "cell_type": "code",
   "execution_count": 10,
   "metadata": {},
   "outputs": [
    {
     "name": "stdout",
     "output_type": "stream",
     "text": [
      "City Weather found.\n"
     ]
    }
   ],
   "source": [
    "if city_weather.status_code == 200:\n",
    "    print(f\"City Weather found.\")\n",
    "else:\n",
    "    print(f\"City weather not found.\")"
   ]
  },
  {
   "cell_type": "code",
   "execution_count": 11,
   "metadata": {},
   "outputs": [
    {
     "name": "stdout",
     "output_type": "stream",
     "text": [
      "City Weather found.\n"
     ]
    }
   ],
   "source": [
    "city_url = url + \"&q=\" + \"Bston\"\n",
    "city_weather = requests.get(city_url)\n",
    "if city_weather.json():\n",
    "    print(f\"City Weather found.\")\n",
    "else:\n",
    "    print(f\"City weather not found.\")\n",
    "    \n",
    "boston_data = city_weather.json()"
   ]
  },
  {
   "cell_type": "code",
   "execution_count": 12,
   "metadata": {},
   "outputs": [
    {
     "data": {
      "text/plain": [
       "{'coord': {'lon': -71.06, 'lat': 42.36},\n",
       " 'weather': [{'id': 803,\n",
       "   'main': 'Clouds',\n",
       "   'description': 'broken clouds',\n",
       "   'icon': '04d'}],\n",
       " 'base': 'stations',\n",
       " 'main': {'temp': 87.4,\n",
       "  'feels_like': 84.36,\n",
       "  'temp_min': 84,\n",
       "  'temp_max': 90,\n",
       "  'pressure': 1007,\n",
       "  'humidity': 48},\n",
       " 'visibility': 16093,\n",
       " 'wind': {'speed': 14.99, 'deg': 190},\n",
       " 'clouds': {'all': 75},\n",
       " 'dt': 1592942763,\n",
       " 'sys': {'type': 1,\n",
       "  'id': 3486,\n",
       "  'country': 'US',\n",
       "  'sunrise': 1592903286,\n",
       "  'sunset': 1592958295},\n",
       " 'timezone': -14400,\n",
       " 'id': 4930956,\n",
       " 'name': 'Boston',\n",
       " 'cod': 200}"
      ]
     },
     "execution_count": 12,
     "metadata": {},
     "output_type": "execute_result"
    }
   ],
   "source": [
    "# Create an endpoint URL for a city.\n",
    "city_url = url + \"&q=\" + \"Boston\"\n",
    "city_weather = requests.get(city_url)\n",
    "city_weather.json()"
   ]
  },
  {
   "cell_type": "code",
   "execution_count": 13,
   "metadata": {},
   "outputs": [
    {
     "name": "stdout",
     "output_type": "stream",
     "text": [
      "42.36 -71.06 90 48 75 14.99\n"
     ]
    }
   ],
   "source": [
    "# Get the JSON data.\n",
    "boston_data = city_weather.json()\n",
    "lat = boston_data[\"coord\"][\"lat\"]\n",
    "lng = boston_data[\"coord\"][\"lon\"]\n",
    "max_temp = boston_data[\"main\"][\"temp_max\"]\n",
    "humidity = boston_data[\"main\"][\"humidity\"]\n",
    "clouds = boston_data[\"clouds\"][\"all\"]\n",
    "wind = boston_data[\"wind\"][\"speed\"]\n",
    "print(lat, lng, max_temp, humidity, clouds, wind)"
   ]
  },
  {
   "cell_type": "code",
   "execution_count": 14,
   "metadata": {},
   "outputs": [
    {
     "data": {
      "text/plain": [
       "'2020-06-23 20:06:03'"
      ]
     },
     "execution_count": 14,
     "metadata": {},
     "output_type": "execute_result"
    }
   ],
   "source": [
    "# Import the datetime module from the datetime library.\n",
    "from datetime import datetime\n",
    "\n",
    "# Get the date from the JSON file.\n",
    "date = boston_data[\"dt\"]\n",
    "# Convert the UTC date to a date format with year, month, day, hours, minutes, and seconds.\n",
    "datetime.utcfromtimestamp(date).strftime('%Y-%m-%d %H:%M:%S')"
   ]
  },
  {
   "cell_type": "code",
   "execution_count": 15,
   "metadata": {},
   "outputs": [
    {
     "name": "stdout",
     "output_type": "stream",
     "text": [
      "Beginning Data Retrieval     \n",
      "-----------------------------\n"
     ]
    }
   ],
   "source": [
    "# Create an empty list to hold the weather data.\n",
    "city_data = []\n",
    "# Print the beginning of the logging.\n",
    "print(\"Beginning Data Retrieval     \")\n",
    "print(\"-----------------------------\")\n",
    "\n",
    "# Create counters.\n",
    "record_count = 1\n",
    "set_count = 1"
   ]
  },
  {
   "cell_type": "code",
   "execution_count": 16,
   "metadata": {},
   "outputs": [
    {
     "name": "stdout",
     "output_type": "stream",
     "text": [
      "Processing Record 1 of Set 1 | rikitea\n",
      "Processing Record 2 of Set 1 | hobart\n",
      "Processing Record 3 of Set 1 | tasiilaq\n",
      "Processing Record 4 of Set 1 | llanes\n",
      "Processing Record 5 of Set 1 | new norfolk\n",
      "Processing Record 6 of Set 1 | luderitz\n",
      "Processing Record 7 of Set 1 | port lincoln\n",
      "Processing Record 8 of Set 1 | hambantota\n",
      "Processing Record 9 of Set 1 | butaritari\n",
      "Processing Record 10 of Set 1 | te anau\n",
      "Processing Record 11 of Set 1 | zhezkazgan\n",
      "Processing Record 12 of Set 1 | punta arenas\n",
      "Processing Record 13 of Set 1 | nizhneudinsk\n",
      "Processing Record 14 of Set 1 | girne\n",
      "Processing Record 15 of Set 1 | cidreira\n",
      "Processing Record 16 of Set 1 | kapaa\n",
      "Processing Record 17 of Set 1 | cabo san lucas\n",
      "Processing Record 18 of Set 1 | santo antonio do ica\n",
      "Processing Record 19 of Set 1 | stornoway\n",
      "Processing Record 20 of Set 1 | fairbanks\n",
      "Processing Record 21 of Set 1 | bluff\n",
      "Processing Record 22 of Set 1 | busselton\n",
      "Processing Record 23 of Set 1 | yellowknife\n",
      "Processing Record 24 of Set 1 | lagoa\n",
      "Processing Record 25 of Set 1 | sao raimundo nonato\n",
      "Processing Record 26 of Set 1 | muros\n",
      "Processing Record 27 of Set 1 | khandbari\n",
      "Processing Record 28 of Set 1 | padang\n",
      "Processing Record 29 of Set 1 | atuona\n",
      "Processing Record 30 of Set 1 | ilulissat\n",
      "Processing Record 31 of Set 1 | nizhneyansk\n",
      "City not found. Skipping...\n",
      "Processing Record 32 of Set 1 | lebu\n",
      "Processing Record 33 of Set 1 | sinnamary\n",
      "Processing Record 34 of Set 1 | barentsburg\n",
      "City not found. Skipping...\n",
      "Processing Record 35 of Set 1 | kyaukse\n",
      "Processing Record 36 of Set 1 | mys shmidta\n",
      "City not found. Skipping...\n",
      "Processing Record 37 of Set 1 | dikson\n",
      "Processing Record 38 of Set 1 | tutoia\n",
      "Processing Record 39 of Set 1 | leningradskiy\n",
      "Processing Record 40 of Set 1 | dingle\n",
      "Processing Record 41 of Set 1 | navalmoral de la mata\n",
      "Processing Record 42 of Set 1 | west wendover\n",
      "Processing Record 43 of Set 1 | quatre cocos\n",
      "Processing Record 44 of Set 1 | mantua\n",
      "Processing Record 45 of Set 1 | amazar\n",
      "Processing Record 46 of Set 1 | saldanha\n",
      "Processing Record 47 of Set 1 | jamestown\n",
      "Processing Record 48 of Set 1 | ushuaia\n",
      "Processing Record 49 of Set 1 | sohag\n",
      "Processing Record 50 of Set 1 | kuusamo\n",
      "Processing Record 1 of Set 2 | bethel\n",
      "Processing Record 2 of Set 2 | fereydun kenar\n",
      "Processing Record 3 of Set 2 | cuiluan\n",
      "Processing Record 4 of Set 2 | barrow\n",
      "Processing Record 5 of Set 2 | khatanga\n",
      "Processing Record 6 of Set 2 | pangnirtung\n",
      "Processing Record 7 of Set 2 | khormuj\n",
      "City not found. Skipping...\n",
      "Processing Record 8 of Set 2 | souillac\n",
      "Processing Record 9 of Set 2 | umtata\n",
      "Processing Record 10 of Set 2 | omboue\n",
      "Processing Record 11 of Set 2 | kruisfontein\n",
      "Processing Record 12 of Set 2 | port alfred\n",
      "Processing Record 13 of Set 2 | kaitangata\n",
      "Processing Record 14 of Set 2 | tiksi\n",
      "Processing Record 15 of Set 2 | nizhniy kuranakh\n",
      "Processing Record 16 of Set 2 | san vicente\n",
      "Processing Record 17 of Set 2 | puerto ayora\n",
      "Processing Record 18 of Set 2 | curup\n",
      "Processing Record 19 of Set 2 | saint george\n",
      "Processing Record 20 of Set 2 | touros\n",
      "Processing Record 21 of Set 2 | sitka\n",
      "Processing Record 22 of Set 2 | faya\n",
      "Processing Record 23 of Set 2 | lifford\n",
      "Processing Record 24 of Set 2 | vaini\n",
      "Processing Record 25 of Set 2 | georgetown\n",
      "Processing Record 26 of Set 2 | vanimo\n",
      "Processing Record 27 of Set 2 | mataura\n",
      "Processing Record 28 of Set 2 | obo\n",
      "Processing Record 29 of Set 2 | rafai\n",
      "Processing Record 30 of Set 2 | port victoria\n",
      "Processing Record 31 of Set 2 | albany\n",
      "Processing Record 32 of Set 2 | hasaki\n",
      "Processing Record 33 of Set 2 | palu\n",
      "Processing Record 34 of Set 2 | matara\n",
      "Processing Record 35 of Set 2 | port augusta\n",
      "Processing Record 36 of Set 2 | coquimbo\n",
      "Processing Record 37 of Set 2 | hermanus\n",
      "Processing Record 38 of Set 2 | belmonte\n",
      "Processing Record 39 of Set 2 | traverse city\n",
      "Processing Record 40 of Set 2 | bolungarvik\n",
      "City not found. Skipping...\n",
      "Processing Record 41 of Set 2 | hilo\n",
      "Processing Record 42 of Set 2 | airai\n",
      "Processing Record 43 of Set 2 | torbay\n",
      "Processing Record 44 of Set 2 | bonthe\n",
      "Processing Record 45 of Set 2 | east london\n",
      "Processing Record 46 of Set 2 | pochutla\n",
      "Processing Record 47 of Set 2 | wanderlandia\n",
      "City not found. Skipping...\n",
      "Processing Record 48 of Set 2 | provideniya\n",
      "Processing Record 49 of Set 2 | ribeira grande\n",
      "Processing Record 50 of Set 2 | saint-joseph\n",
      "Processing Record 1 of Set 3 | husavik\n",
      "Processing Record 2 of Set 3 | kamaishi\n",
      "Processing Record 3 of Set 3 | lompoc\n",
      "Processing Record 4 of Set 3 | tsihombe\n",
      "City not found. Skipping...\n",
      "Processing Record 5 of Set 3 | cherskiy\n",
      "Processing Record 6 of Set 3 | beisfjord\n",
      "Processing Record 7 of Set 3 | tuktoyaktuk\n",
      "Processing Record 8 of Set 3 | saint-philippe\n",
      "Processing Record 9 of Set 3 | taolanaro\n",
      "City not found. Skipping...\n",
      "Processing Record 10 of Set 3 | yeppoon\n",
      "Processing Record 11 of Set 3 | mongo\n",
      "Processing Record 12 of Set 3 | nanortalik\n",
      "Processing Record 13 of Set 3 | strezhevoy\n",
      "Processing Record 14 of Set 3 | talnakh\n",
      "Processing Record 15 of Set 3 | chuy\n",
      "Processing Record 16 of Set 3 | gonzalez\n",
      "Processing Record 17 of Set 3 | nikolskoye\n",
      "Processing Record 18 of Set 3 | bengkulu\n",
      "Processing Record 19 of Set 3 | paradwip\n",
      "City not found. Skipping...\n",
      "Processing Record 20 of Set 3 | yerbogachen\n",
      "Processing Record 21 of Set 3 | chokurdakh\n",
      "Processing Record 22 of Set 3 | bambous virieux\n",
      "Processing Record 23 of Set 3 | kamenka\n",
      "Processing Record 24 of Set 3 | college\n",
      "Processing Record 25 of Set 3 | biltine\n",
      "Processing Record 26 of Set 3 | mar del plata\n",
      "Processing Record 27 of Set 3 | arraial do cabo\n",
      "Processing Record 28 of Set 3 | cape town\n",
      "Processing Record 29 of Set 3 | pervomayskoye\n",
      "Processing Record 30 of Set 3 | kupang\n",
      "Processing Record 31 of Set 3 | mundo nuevo\n",
      "Processing Record 32 of Set 3 | ponta do sol\n",
      "Processing Record 33 of Set 3 | karkaralinsk\n",
      "City not found. Skipping...\n",
      "Processing Record 34 of Set 3 | banda aceh\n",
      "Processing Record 35 of Set 3 | saskylakh\n",
      "Processing Record 36 of Set 3 | khandyga\n",
      "Processing Record 37 of Set 3 | pisco\n",
      "Processing Record 38 of Set 3 | kokkola\n",
      "Processing Record 39 of Set 3 | bukan\n",
      "Processing Record 40 of Set 3 | mahebourg\n",
      "Processing Record 41 of Set 3 | jalu\n",
      "Processing Record 42 of Set 3 | kieta\n",
      "Processing Record 43 of Set 3 | esperance\n",
      "Processing Record 44 of Set 3 | sabinopolis\n",
      "Processing Record 45 of Set 3 | xacmaz\n",
      "Processing Record 46 of Set 3 | sao filipe\n",
      "Processing Record 47 of Set 3 | rudnogorsk\n",
      "Processing Record 48 of Set 3 | karpathos\n",
      "Processing Record 49 of Set 3 | shimanovsk\n",
      "Processing Record 50 of Set 3 | carnarvon\n",
      "Processing Record 1 of Set 4 | tarudant\n",
      "City not found. Skipping...\n",
      "Processing Record 2 of Set 4 | attawapiskat\n",
      "City not found. Skipping...\n",
      "Processing Record 3 of Set 4 | porto novo\n",
      "Processing Record 4 of Set 4 | rapid valley\n",
      "Processing Record 5 of Set 4 | port elizabeth\n",
      "Processing Record 6 of Set 4 | mahadday weyne\n",
      "City not found. Skipping...\n",
      "Processing Record 7 of Set 4 | bredasdorp\n",
      "Processing Record 8 of Set 4 | maromitsa\n",
      "Processing Record 9 of Set 4 | kayunga\n",
      "Processing Record 10 of Set 4 | sentyabrskiy\n",
      "City not found. Skipping...\n",
      "Processing Record 11 of Set 4 | thompson\n",
      "Processing Record 12 of Set 4 | longyearbyen\n",
      "Processing Record 13 of Set 4 | abha\n",
      "Processing Record 14 of Set 4 | iqaluit\n",
      "Processing Record 15 of Set 4 | anderson\n",
      "Processing Record 16 of Set 4 | scottsbluff\n",
      "Processing Record 17 of Set 4 | tessalit\n",
      "Processing Record 18 of Set 4 | farmington\n",
      "Processing Record 19 of Set 4 | ovalle\n",
      "Processing Record 20 of Set 4 | pingzhuang\n",
      "Processing Record 21 of Set 4 | kavieng\n",
      "Processing Record 22 of Set 4 | avarua\n",
      "Processing Record 23 of Set 4 | high level\n",
      "Processing Record 24 of Set 4 | hithadhoo\n",
      "Processing Record 25 of Set 4 | waterfoot\n",
      "Processing Record 26 of Set 4 | qaanaaq\n",
      "Processing Record 27 of Set 4 | lalmohan\n",
      "Processing Record 28 of Set 4 | akcakoca\n",
      "Processing Record 29 of Set 4 | lata\n",
      "Processing Record 30 of Set 4 | hvammstangi\n",
      "City not found. Skipping...\n",
      "Processing Record 31 of Set 4 | benguela\n",
      "Processing Record 32 of Set 4 | hollins\n",
      "Processing Record 33 of Set 4 | shingu\n",
      "Processing Record 34 of Set 4 | meadow lake\n",
      "Processing Record 35 of Set 4 | turukhansk\n",
      "Processing Record 36 of Set 4 | armeria\n",
      "Processing Record 37 of Set 4 | vao\n",
      "Processing Record 38 of Set 4 | saleaula\n"
     ]
    },
    {
     "name": "stdout",
     "output_type": "stream",
     "text": [
      "City not found. Skipping...\n",
      "Processing Record 39 of Set 4 | katherine\n",
      "Processing Record 40 of Set 4 | maceio\n",
      "Processing Record 41 of Set 4 | halifax\n",
      "Processing Record 42 of Set 4 | san rafael\n",
      "Processing Record 43 of Set 4 | adrar\n",
      "Processing Record 44 of Set 4 | bilibino\n",
      "Processing Record 45 of Set 4 | severnoye\n",
      "Processing Record 46 of Set 4 | songea\n",
      "Processing Record 47 of Set 4 | amderma\n",
      "City not found. Skipping...\n",
      "Processing Record 48 of Set 4 | filingue\n",
      "Processing Record 49 of Set 4 | estelle\n",
      "Processing Record 50 of Set 4 | mae ramat\n",
      "Processing Record 1 of Set 5 | guerrero negro\n",
      "Processing Record 2 of Set 5 | victoria\n",
      "Processing Record 3 of Set 5 | beloha\n",
      "Processing Record 4 of Set 5 | luebo\n",
      "Processing Record 5 of Set 5 | gweta\n",
      "Processing Record 6 of Set 5 | novozavidovskiy\n",
      "Processing Record 7 of Set 5 | tuatapere\n",
      "Processing Record 8 of Set 5 | ngunguru\n",
      "Processing Record 9 of Set 5 | illoqqortoormiut\n",
      "City not found. Skipping...\n",
      "Processing Record 10 of Set 5 | belushya guba\n",
      "City not found. Skipping...\n",
      "Processing Record 11 of Set 5 | gangotri\n",
      "City not found. Skipping...\n",
      "Processing Record 12 of Set 5 | cayenne\n",
      "Processing Record 13 of Set 5 | mitsamiouli\n",
      "Processing Record 14 of Set 5 | marienburg\n",
      "Processing Record 15 of Set 5 | deputatskiy\n",
      "Processing Record 16 of Set 5 | paamiut\n",
      "Processing Record 17 of Set 5 | petropavlovsk-kamchatskiy\n",
      "Processing Record 18 of Set 5 | cairns\n",
      "Processing Record 19 of Set 5 | olafsvik\n",
      "Processing Record 20 of Set 5 | srednekolymsk\n",
      "Processing Record 21 of Set 5 | san cristobal\n",
      "Processing Record 22 of Set 5 | hofn\n",
      "Processing Record 23 of Set 5 | gezing\n",
      "Processing Record 24 of Set 5 | namibe\n",
      "Processing Record 25 of Set 5 | tarko-sale\n",
      "Processing Record 26 of Set 5 | bereda\n",
      "Processing Record 27 of Set 5 | rodbyhavn\n",
      "Processing Record 28 of Set 5 | skagastrond\n",
      "City not found. Skipping...\n",
      "Processing Record 29 of Set 5 | nantucket\n",
      "Processing Record 30 of Set 5 | waingapu\n",
      "Processing Record 31 of Set 5 | lavrentiya\n",
      "Processing Record 32 of Set 5 | vallenar\n",
      "Processing Record 33 of Set 5 | grand gaube\n",
      "Processing Record 34 of Set 5 | bull savanna\n",
      "Processing Record 35 of Set 5 | olga\n",
      "Processing Record 36 of Set 5 | teahupoo\n",
      "Processing Record 37 of Set 5 | sola\n",
      "Processing Record 38 of Set 5 | klaksvik\n",
      "Processing Record 39 of Set 5 | yumen\n",
      "Processing Record 40 of Set 5 | vila velha\n",
      "Processing Record 41 of Set 5 | fortuna\n",
      "Processing Record 42 of Set 5 | dolores\n",
      "Processing Record 43 of Set 5 | nizhniy odes\n",
      "Processing Record 44 of Set 5 | tabiauea\n",
      "City not found. Skipping...\n",
      "Processing Record 45 of Set 5 | calais\n",
      "Processing Record 46 of Set 5 | nuoro\n",
      "Processing Record 47 of Set 5 | hamilton\n",
      "Processing Record 48 of Set 5 | north bend\n",
      "Processing Record 49 of Set 5 | leninskoye\n",
      "Processing Record 50 of Set 5 | lumphat\n",
      "Processing Record 1 of Set 6 | auki\n",
      "Processing Record 2 of Set 6 | ipora\n",
      "Processing Record 3 of Set 6 | valdivia\n",
      "Processing Record 4 of Set 6 | majene\n",
      "Processing Record 5 of Set 6 | tuma\n",
      "Processing Record 6 of Set 6 | ordzhonikidze\n",
      "Processing Record 7 of Set 6 | nouadhibou\n",
      "Processing Record 8 of Set 6 | miri\n",
      "Processing Record 9 of Set 6 | castro\n",
      "Processing Record 10 of Set 6 | gonen\n",
      "Processing Record 11 of Set 6 | poso\n",
      "Processing Record 12 of Set 6 | henties bay\n",
      "Processing Record 13 of Set 6 | jacqueville\n",
      "Processing Record 14 of Set 6 | sawakin\n",
      "Processing Record 15 of Set 6 | tonshayevo\n",
      "Processing Record 16 of Set 6 | tevriz\n",
      "Processing Record 17 of Set 6 | oussouye\n",
      "Processing Record 18 of Set 6 | severo-kurilsk\n",
      "Processing Record 19 of Set 6 | manadhoo\n",
      "Processing Record 20 of Set 6 | poum\n",
      "Processing Record 21 of Set 6 | praia\n",
      "Processing Record 22 of Set 6 | kondinskoye\n",
      "Processing Record 23 of Set 6 | oga\n",
      "Processing Record 24 of Set 6 | malabo\n",
      "Processing Record 25 of Set 6 | erenhot\n",
      "Processing Record 26 of Set 6 | chapada dos guimaraes\n",
      "Processing Record 27 of Set 6 | formosa do rio preto\n",
      "Processing Record 28 of Set 6 | ingham\n",
      "Processing Record 29 of Set 6 | marzuq\n",
      "Processing Record 30 of Set 6 | asau\n",
      "Processing Record 31 of Set 6 | sitangkai\n",
      "Processing Record 32 of Set 6 | yar-sale\n",
      "Processing Record 33 of Set 6 | kahului\n",
      "Processing Record 34 of Set 6 | fuyang\n",
      "Processing Record 35 of Set 6 | kawalu\n",
      "Processing Record 36 of Set 6 | port blair\n",
      "Processing Record 37 of Set 6 | georgiu-dezh\n",
      "City not found. Skipping...\n",
      "Processing Record 38 of Set 6 | kodiak\n",
      "Processing Record 39 of Set 6 | saryshagan\n",
      "City not found. Skipping...\n",
      "Processing Record 40 of Set 6 | karlskrona\n",
      "Processing Record 41 of Set 6 | dunmore town\n",
      "Processing Record 42 of Set 6 | gotsu\n",
      "Processing Record 43 of Set 6 | isangel\n",
      "Processing Record 44 of Set 6 | urumqi\n",
      "Processing Record 45 of Set 6 | nongan\n",
      "Processing Record 46 of Set 6 | praia da vitoria\n",
      "Processing Record 47 of Set 6 | mayo\n",
      "Processing Record 48 of Set 6 | erzin\n",
      "Processing Record 49 of Set 6 | isla mujeres\n",
      "Processing Record 50 of Set 6 | pilar\n",
      "Processing Record 1 of Set 7 | acajutla\n",
      "Processing Record 2 of Set 7 | mount isa\n",
      "Processing Record 3 of Set 7 | palabuhanratu\n",
      "City not found. Skipping...\n",
      "Processing Record 4 of Set 7 | sandwick\n",
      "Processing Record 5 of Set 7 | tafalla\n",
      "Processing Record 6 of Set 7 | norman wells\n",
      "Processing Record 7 of Set 7 | ciras\n",
      "City not found. Skipping...\n",
      "Processing Record 8 of Set 7 | beringovskiy\n",
      "Processing Record 9 of Set 7 | tainan\n",
      "Processing Record 10 of Set 7 | lorengau\n",
      "Processing Record 11 of Set 7 | wajima\n",
      "Processing Record 12 of Set 7 | salinas\n",
      "Processing Record 13 of Set 7 | ulaangom\n",
      "Processing Record 14 of Set 7 | edson\n",
      "Processing Record 15 of Set 7 | kaeo\n",
      "Processing Record 16 of Set 7 | necochea\n",
      "Processing Record 17 of Set 7 | anadyr\n",
      "Processing Record 18 of Set 7 | neuquen\n",
      "Processing Record 19 of Set 7 | hwange\n",
      "Processing Record 20 of Set 7 | seoul\n",
      "Processing Record 21 of Set 7 | neiafu\n",
      "Processing Record 22 of Set 7 | vestmannaeyjar\n",
      "Processing Record 23 of Set 7 | shenjiamen\n",
      "Processing Record 24 of Set 7 | katsuura\n",
      "Processing Record 25 of Set 7 | urcos\n",
      "Processing Record 26 of Set 7 | truckee\n",
      "Processing Record 27 of Set 7 | codrington\n",
      "Processing Record 28 of Set 7 | clyde\n",
      "Processing Record 29 of Set 7 | hay river\n",
      "Processing Record 30 of Set 7 | okhotsk\n",
      "Processing Record 31 of Set 7 | clyde river\n",
      "Processing Record 32 of Set 7 | corinto\n",
      "Processing Record 33 of Set 7 | umzimvubu\n",
      "City not found. Skipping...\n",
      "Processing Record 34 of Set 7 | kommunisticheskiy\n",
      "Processing Record 35 of Set 7 | dunedin\n",
      "Processing Record 36 of Set 7 | pestovo\n",
      "Processing Record 37 of Set 7 | shimoda\n",
      "Processing Record 38 of Set 7 | mayya\n",
      "Processing Record 39 of Set 7 | cortez\n",
      "Processing Record 40 of Set 7 | prince rupert\n",
      "Processing Record 41 of Set 7 | shizunai\n",
      "Processing Record 42 of Set 7 | caramanta\n",
      "Processing Record 43 of Set 7 | malinovskiy\n",
      "Processing Record 44 of Set 7 | port-cartier\n",
      "Processing Record 45 of Set 7 | laguna\n",
      "Processing Record 46 of Set 7 | teguldet\n",
      "Processing Record 47 of Set 7 | mount gambier\n",
      "Processing Record 48 of Set 7 | labytnangi\n",
      "Processing Record 49 of Set 7 | aykino\n",
      "Processing Record 50 of Set 7 | san quintin\n",
      "Processing Record 1 of Set 8 | raudeberg\n",
      "Processing Record 2 of Set 8 | duzce\n",
      "Processing Record 3 of Set 8 | sorland\n",
      "Processing Record 4 of Set 8 | gorontalo\n",
      "Processing Record 5 of Set 8 | fengrun\n",
      "Processing Record 6 of Set 8 | mehamn\n",
      "Processing Record 7 of Set 8 | dajal\n",
      "Processing Record 8 of Set 8 | rungata\n",
      "City not found. Skipping...\n",
      "Processing Record 9 of Set 8 | nguiu\n",
      "City not found. Skipping...\n",
      "Processing Record 10 of Set 8 | doha\n",
      "Processing Record 11 of Set 8 | arrifes\n",
      "Processing Record 12 of Set 8 | bubaque\n",
      "Processing Record 13 of Set 8 | saint-agapit\n",
      "Processing Record 14 of Set 8 | trinidad\n",
      "Processing Record 15 of Set 8 | aberdeen\n",
      "Processing Record 16 of Set 8 | papanasam\n",
      "Processing Record 17 of Set 8 | suntar\n",
      "Processing Record 18 of Set 8 | formosa\n",
      "Processing Record 19 of Set 8 | palafrugell\n",
      "Processing Record 20 of Set 8 | goycay\n",
      "City not found. Skipping...\n",
      "Processing Record 21 of Set 8 | ahipara\n",
      "Processing Record 22 of Set 8 | sabha\n",
      "Processing Record 23 of Set 8 | san policarpo\n",
      "Processing Record 24 of Set 8 | pingliang\n",
      "Processing Record 25 of Set 8 | bronnoysund\n",
      "Processing Record 26 of Set 8 | jishou\n",
      "Processing Record 27 of Set 8 | kununurra\n",
      "Processing Record 28 of Set 8 | saint-leu\n",
      "Processing Record 29 of Set 8 | riyadh\n",
      "Processing Record 30 of Set 8 | samusu\n"
     ]
    },
    {
     "name": "stdout",
     "output_type": "stream",
     "text": [
      "City not found. Skipping...\n",
      "Processing Record 31 of Set 8 | walvis bay\n",
      "Processing Record 32 of Set 8 | svetlaya\n",
      "Processing Record 33 of Set 8 | marawi\n",
      "Processing Record 34 of Set 8 | tatawin\n",
      "Processing Record 35 of Set 8 | kaseda\n",
      "Processing Record 36 of Set 8 | ketchikan\n",
      "Processing Record 37 of Set 8 | puerto colombia\n",
      "Processing Record 38 of Set 8 | valparaiso\n",
      "Processing Record 39 of Set 8 | toliary\n",
      "City not found. Skipping...\n",
      "Processing Record 40 of Set 8 | baghdad\n",
      "Processing Record 41 of Set 8 | seguin\n",
      "Processing Record 42 of Set 8 | mirnyy\n",
      "Processing Record 43 of Set 8 | yialos\n",
      "City not found. Skipping...\n",
      "Processing Record 44 of Set 8 | logan\n",
      "Processing Record 45 of Set 8 | ancud\n",
      "Processing Record 46 of Set 8 | mpanda\n",
      "Processing Record 47 of Set 8 | tiruvottiyur\n",
      "City not found. Skipping...\n",
      "Processing Record 48 of Set 8 | freeport\n",
      "Processing Record 49 of Set 8 | khingansk\n",
      "Processing Record 50 of Set 8 | korla\n",
      "Processing Record 1 of Set 9 | xining\n",
      "Processing Record 2 of Set 9 | vestbygda\n",
      "City not found. Skipping...\n",
      "Processing Record 3 of Set 9 | kutum\n",
      "Processing Record 4 of Set 9 | verkhoyansk\n",
      "Processing Record 5 of Set 9 | afmadu\n",
      "City not found. Skipping...\n",
      "Processing Record 6 of Set 9 | dzaoudzi\n",
      "Processing Record 7 of Set 9 | hatillo\n",
      "Processing Record 8 of Set 9 | hessisch lichtenau\n",
      "Processing Record 9 of Set 9 | ler\n",
      "Processing Record 10 of Set 9 | kinshasa\n",
      "Processing Record 11 of Set 9 | san jeronimo\n",
      "Processing Record 12 of Set 9 | edd\n",
      "Processing Record 13 of Set 9 | muisne\n",
      "Processing Record 14 of Set 9 | wagar\n",
      "Processing Record 15 of Set 9 | pokhara\n",
      "Processing Record 16 of Set 9 | warqla\n",
      "City not found. Skipping...\n",
      "Processing Record 17 of Set 9 | nizhniy ingash\n",
      "Processing Record 18 of Set 9 | mountain home\n",
      "Processing Record 19 of Set 9 | deqing\n",
      "Processing Record 20 of Set 9 | izhma\n",
      "Processing Record 21 of Set 9 | mizan teferi\n",
      "Processing Record 22 of Set 9 | aykhal\n",
      "Processing Record 23 of Set 9 | craig\n",
      "Processing Record 24 of Set 9 | salalah\n",
      "Processing Record 25 of Set 9 | caohai\n",
      "Processing Record 26 of Set 9 | chernyshevskiy\n",
      "Processing Record 27 of Set 9 | matay\n",
      "Processing Record 28 of Set 9 | vitim\n",
      "Processing Record 29 of Set 9 | ormara\n",
      "Processing Record 30 of Set 9 | guaratinga\n",
      "Processing Record 31 of Set 9 | badarwas\n",
      "Processing Record 32 of Set 9 | anshun\n",
      "Processing Record 33 of Set 9 | kitoy\n",
      "Processing Record 34 of Set 9 | belaya gora\n",
      "Processing Record 35 of Set 9 | nurpur\n",
      "Processing Record 36 of Set 9 | kikugawa\n",
      "Processing Record 37 of Set 9 | bargal\n",
      "City not found. Skipping...\n",
      "Processing Record 38 of Set 9 | karratha\n",
      "Processing Record 39 of Set 9 | cabedelo\n",
      "Processing Record 40 of Set 9 | solovetskiy\n",
      "City not found. Skipping...\n",
      "Processing Record 41 of Set 9 | bandarbeyla\n",
      "Processing Record 42 of Set 9 | gizo\n",
      "Processing Record 43 of Set 9 | wahran\n",
      "City not found. Skipping...\n",
      "Processing Record 44 of Set 9 | nara\n",
      "Processing Record 45 of Set 9 | ostrovnoy\n",
      "Processing Record 46 of Set 9 | haines junction\n",
      "Processing Record 47 of Set 9 | naryan-mar\n",
      "Processing Record 48 of Set 9 | grand centre\n",
      "City not found. Skipping...\n",
      "Processing Record 49 of Set 9 | kumbo\n",
      "Processing Record 50 of Set 9 | manavgat\n",
      "Processing Record 1 of Set 10 | mogadishu\n",
      "Processing Record 2 of Set 10 | sorvag\n",
      "City not found. Skipping...\n",
      "Processing Record 3 of Set 10 | el balyana\n",
      "City not found. Skipping...\n",
      "Processing Record 4 of Set 10 | oktyabrskiy\n",
      "Processing Record 5 of Set 10 | parkes\n",
      "Processing Record 6 of Set 10 | huanren\n",
      "Processing Record 7 of Set 10 | ust-uda\n",
      "Processing Record 8 of Set 10 | san patricio\n",
      "Processing Record 9 of Set 10 | sistranda\n",
      "Processing Record 10 of Set 10 | leh\n",
      "Processing Record 11 of Set 10 | caravelas\n",
      "Processing Record 12 of Set 10 | mecca\n",
      "Processing Record 13 of Set 10 | udachnyy\n",
      "Processing Record 14 of Set 10 | iquique\n",
      "Processing Record 15 of Set 10 | camacha\n",
      "Processing Record 16 of Set 10 | kropachevo\n",
      "Processing Record 17 of Set 10 | vila franca do campo\n",
      "Processing Record 18 of Set 10 | nicoya\n",
      "Processing Record 19 of Set 10 | tabou\n",
      "Processing Record 20 of Set 10 | kamenskoye\n",
      "City not found. Skipping...\n",
      "Processing Record 21 of Set 10 | vina del mar\n",
      "Processing Record 22 of Set 10 | verkhnevilyuysk\n",
      "Processing Record 23 of Set 10 | kangaatsiaq\n",
      "Processing Record 24 of Set 10 | san joaquin\n",
      "Processing Record 25 of Set 10 | mocuba\n",
      "Processing Record 26 of Set 10 | offa\n",
      "Processing Record 27 of Set 10 | dolinsk\n",
      "Processing Record 28 of Set 10 | buraydah\n",
      "Processing Record 29 of Set 10 | vaitupu\n",
      "City not found. Skipping...\n",
      "Processing Record 30 of Set 10 | groton\n",
      "Processing Record 31 of Set 10 | tingi\n",
      "Processing Record 32 of Set 10 | kumluca\n",
      "Processing Record 33 of Set 10 | namatanai\n",
      "Processing Record 34 of Set 10 | miranorte\n",
      "City not found. Skipping...\n",
      "Processing Record 35 of Set 10 | vostok\n",
      "Processing Record 36 of Set 10 | moranbah\n",
      "Processing Record 37 of Set 10 | faanui\n",
      "Processing Record 38 of Set 10 | ajdabiya\n",
      "Processing Record 39 of Set 10 | champerico\n",
      "Processing Record 40 of Set 10 | nemuro\n",
      "Processing Record 41 of Set 10 | sao joao da barra\n",
      "Processing Record 42 of Set 10 | inhambane\n",
      "Processing Record 43 of Set 10 | preobrazheniye\n",
      "Processing Record 44 of Set 10 | camargo\n",
      "Processing Record 45 of Set 10 | chardara\n",
      "Processing Record 46 of Set 10 | aguimes\n",
      "Processing Record 47 of Set 10 | mahon\n",
      "Processing Record 48 of Set 10 | nyurba\n",
      "Processing Record 49 of Set 10 | satitoa\n",
      "City not found. Skipping...\n",
      "Processing Record 50 of Set 10 | surgut\n",
      "Processing Record 1 of Set 11 | skjervoy\n",
      "Processing Record 2 of Set 11 | kirakira\n",
      "Processing Record 3 of Set 11 | virginia beach\n",
      "Processing Record 4 of Set 11 | mathathane\n",
      "Processing Record 5 of Set 11 | bolshiye uki\n",
      "City not found. Skipping...\n",
      "Processing Record 6 of Set 11 | kaputa\n",
      "Processing Record 7 of Set 11 | eureka\n",
      "Processing Record 8 of Set 11 | san juan\n",
      "Processing Record 9 of Set 11 | chom bung\n",
      "City not found. Skipping...\n",
      "Processing Record 10 of Set 11 | kidal\n",
      "Processing Record 11 of Set 11 | nelson bay\n",
      "Processing Record 12 of Set 11 | la plata\n",
      "Processing Record 13 of Set 11 | baijiantan\n",
      "Processing Record 14 of Set 11 | arlit\n",
      "Processing Record 15 of Set 11 | narsaq\n",
      "Processing Record 16 of Set 11 | nizhniy baskunchak\n",
      "Processing Record 17 of Set 11 | pa sang\n",
      "Processing Record 18 of Set 11 | numan\n",
      "Processing Record 19 of Set 11 | banamba\n",
      "Processing Record 20 of Set 11 | viligili\n",
      "City not found. Skipping...\n",
      "Processing Record 21 of Set 11 | the valley\n",
      "Processing Record 22 of Set 11 | mackay\n",
      "Processing Record 23 of Set 11 | yulara\n",
      "Processing Record 24 of Set 11 | shklo\n",
      "Processing Record 25 of Set 11 | vila\n",
      "Processing Record 26 of Set 11 | san miguelito\n",
      "Processing Record 27 of Set 11 | tilik\n",
      "Processing Record 28 of Set 11 | meyungs\n",
      "City not found. Skipping...\n",
      "Processing Record 29 of Set 11 | impfondo\n",
      "Processing Record 30 of Set 11 | zeya\n",
      "Processing Record 31 of Set 11 | alofi\n",
      "Processing Record 32 of Set 11 | egvekinot\n",
      "Processing Record 33 of Set 11 | whitehorse\n",
      "Processing Record 34 of Set 11 | kusye-aleksandrovskiy\n",
      "City not found. Skipping...\n",
      "Processing Record 35 of Set 11 | nioro\n",
      "Processing Record 36 of Set 11 | kapit\n",
      "Processing Record 37 of Set 11 | eufaula\n",
      "Processing Record 38 of Set 11 | ruthin\n",
      "Processing Record 39 of Set 11 | beaupre\n",
      "Processing Record 40 of Set 11 | rio gallegos\n",
      "Processing Record 41 of Set 11 | chitungwiza\n",
      "Processing Record 42 of Set 11 | west bay\n",
      "Processing Record 43 of Set 11 | khasan\n",
      "Processing Record 44 of Set 11 | plettenberg bay\n",
      "Processing Record 45 of Set 11 | ouesso\n",
      "Processing Record 46 of Set 11 | teya\n",
      "Processing Record 47 of Set 11 | ijaki\n",
      "City not found. Skipping...\n",
      "Processing Record 48 of Set 11 | alekseyevka\n",
      "Processing Record 49 of Set 11 | rio tercero\n",
      "Processing Record 50 of Set 11 | rocha\n",
      "Processing Record 1 of Set 12 | eyemouth\n",
      "Processing Record 2 of Set 12 | huron\n",
      "Processing Record 3 of Set 12 | tres arroyos\n",
      "Processing Record 4 of Set 12 | bangassou\n",
      "Processing Record 5 of Set 12 | havre-saint-pierre\n",
      "Processing Record 6 of Set 12 | vardo\n",
      "Processing Record 7 of Set 12 | ust-tsilma\n",
      "Processing Record 8 of Set 12 | lushunkou\n",
      "City not found. Skipping...\n",
      "Processing Record 9 of Set 12 | kothen\n",
      "Processing Record 10 of Set 12 | paris\n",
      "Processing Record 11 of Set 12 | podgornoye\n",
      "Processing Record 12 of Set 12 | lodwar\n",
      "Processing Record 13 of Set 12 | longuenesse\n",
      "Processing Record 14 of Set 12 | quelimane\n"
     ]
    },
    {
     "name": "stdout",
     "output_type": "stream",
     "text": [
      "Processing Record 15 of Set 12 | chicama\n",
      "Processing Record 16 of Set 12 | severo-yeniseyskiy\n",
      "Processing Record 17 of Set 12 | senanga\n",
      "Processing Record 18 of Set 12 | bhinga\n",
      "Processing Record 19 of Set 12 | bowen\n",
      "Processing Record 20 of Set 12 | puerto baquerizo moreno\n",
      "Processing Record 21 of Set 12 | burica\n",
      "City not found. Skipping...\n",
      "Processing Record 22 of Set 12 | bitung\n",
      "Processing Record 23 of Set 12 | homer\n",
      "Processing Record 24 of Set 12 | ciudad guayana\n",
      "Processing Record 25 of Set 12 | sechura\n",
      "Processing Record 26 of Set 12 | geraldton\n",
      "Processing Record 27 of Set 12 | keerbergen\n",
      "Processing Record 28 of Set 12 | mananara\n",
      "Processing Record 29 of Set 12 | turayf\n",
      "Processing Record 30 of Set 12 | bogorodskoye\n",
      "Processing Record 31 of Set 12 | qaqortoq\n",
      "Processing Record 32 of Set 12 | iguatemi\n",
      "Processing Record 33 of Set 12 | ishigaki\n",
      "Processing Record 34 of Set 12 | upernavik\n",
      "Processing Record 35 of Set 12 | sug-aksy\n",
      "City not found. Skipping...\n",
      "Processing Record 36 of Set 12 | phan rang\n",
      "City not found. Skipping...\n",
      "Processing Record 37 of Set 12 | hobyo\n",
      "Processing Record 38 of Set 12 | bolshaya yelkhovka\n",
      "City not found. Skipping...\n",
      "Processing Record 39 of Set 12 | miandrivazo\n",
      "Processing Record 40 of Set 12 | saint-georges\n",
      "Processing Record 41 of Set 12 | reefton\n",
      "City not found. Skipping...\n",
      "Processing Record 42 of Set 12 | lamu\n",
      "Processing Record 43 of Set 12 | barra do garcas\n",
      "Processing Record 44 of Set 12 | coaldale\n",
      "Processing Record 45 of Set 12 | cagayan de tawi-tawi\n",
      "City not found. Skipping...\n",
      "Processing Record 46 of Set 12 | nagai\n",
      "Processing Record 47 of Set 12 | lima\n",
      "Processing Record 48 of Set 12 | santa cruz del sur\n",
      "Processing Record 49 of Set 12 | himora\n",
      "City not found. Skipping...\n",
      "Processing Record 50 of Set 12 | cranbrook\n",
      "Processing Record 1 of Set 13 | manzil tamim\n",
      "City not found. Skipping...\n",
      "Processing Record 2 of Set 13 | marsaxlokk\n",
      "Processing Record 3 of Set 13 | devrek\n",
      "Processing Record 4 of Set 13 | brae\n",
      "Processing Record 5 of Set 13 | siocon\n",
      "Processing Record 6 of Set 13 | miles city\n",
      "Processing Record 7 of Set 13 | comodoro rivadavia\n",
      "Processing Record 8 of Set 13 | umea\n",
      "Processing Record 9 of Set 13 | alta floresta\n",
      "Processing Record 10 of Set 13 | chumphon\n",
      "Processing Record 11 of Set 13 | trapani\n",
      "Processing Record 12 of Set 13 | inirida\n",
      "Processing Record 13 of Set 13 | macau\n",
      "Processing Record 14 of Set 13 | noumea\n",
      "Processing Record 15 of Set 13 | buala\n",
      "Processing Record 16 of Set 13 | pevek\n",
      "Processing Record 17 of Set 13 | maniitsoq\n",
      "Processing Record 18 of Set 13 | stony brook\n",
      "Processing Record 19 of Set 13 | xunchang\n",
      "Processing Record 20 of Set 13 | presidencia roque saenz pena\n",
      "Processing Record 21 of Set 13 | bogale\n",
      "Processing Record 22 of Set 13 | coahuayana\n",
      "-----------------------------\n",
      "Data Retrieval Complete      \n",
      "-----------------------------\n"
     ]
    }
   ],
   "source": [
    "# Loop through all the cities in the list.\n",
    "for i, city in enumerate(cities):\n",
    "\n",
    "    # Group cities in sets of 50 for logging purposes.\n",
    "    if (i % 50 == 0 and i >= 50):\n",
    "        set_count += 1\n",
    "        record_count = 1\n",
    "    # Create endpoint URL with each city.\n",
    "    city_url = url + \"&q=\" + city.replace(\" \",\"+\")\n",
    "\n",
    "    # Log the URL, record, and set numbers and the city.\n",
    "    print(f\"Processing Record {record_count} of Set {set_count} | {city}\")\n",
    "    # Add 1 to the record count.\n",
    "    record_count += 1\n",
    "    \n",
    "    # Run an API request for each of the cities.\n",
    "    try:\n",
    "        # Parse the JSON and retrieve data.\n",
    "        city_weather = requests.get(city_url).json()\n",
    "        # Parse out the needed data.\n",
    "        city_lat = city_weather[\"coord\"][\"lat\"]\n",
    "        city_lng = city_weather[\"coord\"][\"lon\"]\n",
    "        city_max_temp = city_weather[\"main\"][\"temp_max\"]\n",
    "        city_humidity = city_weather[\"main\"][\"humidity\"]\n",
    "        city_clouds = city_weather[\"clouds\"][\"all\"]\n",
    "        city_wind = city_weather[\"wind\"][\"speed\"]\n",
    "        city_country = city_weather[\"sys\"][\"country\"]\n",
    "        # Convert the date to ISO standard.\n",
    "        city_date = datetime.utcfromtimestamp(city_weather[\"dt\"]).strftime('%Y-%m-%d %H:%M:%S')\n",
    "        # Append the city information into city_data list.\n",
    "        city_data.append({\"City\": city.title(),\n",
    "                          \"Lat\": city_lat,\n",
    "                          \"Lng\": city_lng,\n",
    "                          \"Max Temp\": city_max_temp,\n",
    "                          \"Humidity\": city_humidity,\n",
    "                          \"Cloudiness\": city_clouds,\n",
    "                          \"Wind Speed\": city_wind,\n",
    "                          \"Country\": city_country,\n",
    "                          \"Date\": city_date})\n",
    "\n",
    "# If an error is experienced, skip the city.\n",
    "    except:\n",
    "        print(\"City not found. Skipping...\")\n",
    "        pass\n",
    "\n",
    "# Indicate that Data Loading is complete.\n",
    "print(\"-----------------------------\")\n",
    "print(\"Data Retrieval Complete      \")\n",
    "print(\"-----------------------------\")\n",
    "        \n",
    "        "
   ]
  },
  {
   "cell_type": "code",
   "execution_count": 17,
   "metadata": {},
   "outputs": [
    {
     "data": {
      "text/plain": [
       "560"
      ]
     },
     "execution_count": 17,
     "metadata": {},
     "output_type": "execute_result"
    }
   ],
   "source": [
    "len(city_data)"
   ]
  },
  {
   "cell_type": "code",
   "execution_count": 18,
   "metadata": {},
   "outputs": [
    {
     "data": {
      "text/html": [
       "<div>\n",
       "<style scoped>\n",
       "    .dataframe tbody tr th:only-of-type {\n",
       "        vertical-align: middle;\n",
       "    }\n",
       "\n",
       "    .dataframe tbody tr th {\n",
       "        vertical-align: top;\n",
       "    }\n",
       "\n",
       "    .dataframe thead th {\n",
       "        text-align: right;\n",
       "    }\n",
       "</style>\n",
       "<table border=\"1\" class=\"dataframe\">\n",
       "  <thead>\n",
       "    <tr style=\"text-align: right;\">\n",
       "      <th></th>\n",
       "      <th>City</th>\n",
       "      <th>Lat</th>\n",
       "      <th>Lng</th>\n",
       "      <th>Max Temp</th>\n",
       "      <th>Humidity</th>\n",
       "      <th>Cloudiness</th>\n",
       "      <th>Wind Speed</th>\n",
       "      <th>Country</th>\n",
       "      <th>Date</th>\n",
       "    </tr>\n",
       "  </thead>\n",
       "  <tbody>\n",
       "    <tr>\n",
       "      <th>0</th>\n",
       "      <td>Rikitea</td>\n",
       "      <td>-23.12</td>\n",
       "      <td>-134.97</td>\n",
       "      <td>70.16</td>\n",
       "      <td>51</td>\n",
       "      <td>100</td>\n",
       "      <td>9.15</td>\n",
       "      <td>PF</td>\n",
       "      <td>2020-06-23 20:08:12</td>\n",
       "    </tr>\n",
       "    <tr>\n",
       "      <th>1</th>\n",
       "      <td>Hobart</td>\n",
       "      <td>-42.88</td>\n",
       "      <td>147.33</td>\n",
       "      <td>53.01</td>\n",
       "      <td>93</td>\n",
       "      <td>90</td>\n",
       "      <td>9.17</td>\n",
       "      <td>AU</td>\n",
       "      <td>2020-06-23 20:05:33</td>\n",
       "    </tr>\n",
       "    <tr>\n",
       "      <th>2</th>\n",
       "      <td>Tasiilaq</td>\n",
       "      <td>65.61</td>\n",
       "      <td>-37.64</td>\n",
       "      <td>48.20</td>\n",
       "      <td>66</td>\n",
       "      <td>75</td>\n",
       "      <td>17.22</td>\n",
       "      <td>GL</td>\n",
       "      <td>2020-06-23 20:08:12</td>\n",
       "    </tr>\n",
       "    <tr>\n",
       "      <th>3</th>\n",
       "      <td>Llanes</td>\n",
       "      <td>43.42</td>\n",
       "      <td>-4.75</td>\n",
       "      <td>75.99</td>\n",
       "      <td>80</td>\n",
       "      <td>0</td>\n",
       "      <td>1.99</td>\n",
       "      <td>ES</td>\n",
       "      <td>2020-06-23 20:08:12</td>\n",
       "    </tr>\n",
       "    <tr>\n",
       "      <th>4</th>\n",
       "      <td>New Norfolk</td>\n",
       "      <td>-42.78</td>\n",
       "      <td>147.06</td>\n",
       "      <td>53.01</td>\n",
       "      <td>90</td>\n",
       "      <td>100</td>\n",
       "      <td>2.51</td>\n",
       "      <td>AU</td>\n",
       "      <td>2020-06-23 20:08:12</td>\n",
       "    </tr>\n",
       "  </tbody>\n",
       "</table>\n",
       "</div>"
      ],
      "text/plain": [
       "          City    Lat     Lng  Max Temp  Humidity  Cloudiness  Wind Speed  \\\n",
       "0      Rikitea -23.12 -134.97     70.16        51         100        9.15   \n",
       "1       Hobart -42.88  147.33     53.01        93          90        9.17   \n",
       "2     Tasiilaq  65.61  -37.64     48.20        66          75       17.22   \n",
       "3       Llanes  43.42   -4.75     75.99        80           0        1.99   \n",
       "4  New Norfolk -42.78  147.06     53.01        90         100        2.51   \n",
       "\n",
       "  Country                 Date  \n",
       "0      PF  2020-06-23 20:08:12  \n",
       "1      AU  2020-06-23 20:05:33  \n",
       "2      GL  2020-06-23 20:08:12  \n",
       "3      ES  2020-06-23 20:08:12  \n",
       "4      AU  2020-06-23 20:08:12  "
      ]
     },
     "execution_count": 18,
     "metadata": {},
     "output_type": "execute_result"
    }
   ],
   "source": [
    "city_data_df = pd.DataFrame(city_data)\n",
    "city_data_df.head()"
   ]
  },
  {
   "cell_type": "code",
   "execution_count": 19,
   "metadata": {},
   "outputs": [],
   "source": [
    "# Create the output file (CSV).\n",
    "output_data_file = \"weather_data/cities.csv\"\n",
    "# Export the City_Data into a CSV.\n",
    "city_data_df.to_csv(output_data_file, index_label=\"City_ID\")"
   ]
  },
  {
   "cell_type": "code",
   "execution_count": 20,
   "metadata": {},
   "outputs": [],
   "source": [
    "# Compile fields for dataframe to plot\n",
    "lats = city_data_df[\"Lat\"]\n",
    "max_temps = city_data_df[\"Max Temp\"]\n",
    "humidity = city_data_df[\"Humidity\"]\n",
    "cloudiness = city_data_df[\"Cloudiness\"]\n",
    "wind_speed = city_data_df[\"Wind Speed\"]"
   ]
  },
  {
   "cell_type": "code",
   "execution_count": 21,
   "metadata": {},
   "outputs": [
    {
     "data": {
      "text/plain": [
       "1592942942.55932"
      ]
     },
     "execution_count": 21,
     "metadata": {},
     "output_type": "execute_result"
    }
   ],
   "source": [
    "# Import the time module.\n",
    "import time\n",
    "# Get today's date in seconds.\n",
    "today = time.time()\n",
    "today"
   ]
  },
  {
   "cell_type": "markdown",
   "metadata": {},
   "source": [
    "# WeatherPy Charts"
   ]
  },
  {
   "cell_type": "code",
   "execution_count": 22,
   "metadata": {},
   "outputs": [
    {
     "data": {
      "image/png": "[encoded data removed]",
      "text/plain": [
       "<Figure size 432x288 with 1 Axes>"
      ]
     },
     "metadata": {
      "needs_background": "light"
     },
     "output_type": "display_data"
    }
   ],
   "source": [
    "# Build the scatter plot for latitude vs. max temperature.\n",
    "plt.scatter(lats,\n",
    "            max_temps,\n",
    "            edgecolor=\"black\", linewidths=1, marker=\"o\",\n",
    "            alpha=0.8, label=\"Cities\")\n",
    "\n",
    "# Incorporate the other graph properties.\n",
    "plt.title(f\"City Latitude vs. Max Temperature \"+ time.strftime(\"%x\"))\n",
    "plt.ylabel(\"Max Temperature (F)\")\n",
    "plt.xlabel(\"Latitude\")\n",
    "plt.grid(True)\n",
    "\n",
    "# Save the figure.\n",
    "plt.savefig(\"weather_data/Fig1.png\")\n",
    "\n",
    "# Show plot.\n",
    "plt.show()"
   ]
  },
  {
   "cell_type": "code",
   "execution_count": 23,
   "metadata": {},
   "outputs": [
    {
     "data": {
      "image/png": "[encoded data removed]",
      "text/plain": [
       "<Figure size 432x288 with 1 Axes>"
      ]
     },
     "metadata": {
      "needs_background": "light"
     },
     "output_type": "display_data"
    }
   ],
   "source": [
    "# Build the scatter plots for latitude vs. humidity.\n",
    "plt.scatter(lats,\n",
    "            humidity,\n",
    "            edgecolor=\"black\", linewidths=1, marker=\"o\",\n",
    "            alpha=0.8, label=\"Cities\")\n",
    "\n",
    "# Incorporate the other graph properties.\n",
    "plt.title(f\"City Latitude vs. Humidity \"+ time.strftime(\"%x\"))\n",
    "plt.ylabel(\"Humidity (%)\")\n",
    "plt.xlabel(\"Latitude\")\n",
    "plt.grid(True)\n",
    "# Save the figure.\n",
    "plt.savefig(\"weather_data/Fig2.png\")\n",
    "# Show plot.\n",
    "plt.show()"
   ]
  },
  {
   "cell_type": "code",
   "execution_count": 24,
   "metadata": {},
   "outputs": [
    {
     "data": {
      "image/png": "[encoded data removed]",
      "text/plain": [
       "<Figure size 432x288 with 1 Axes>"
      ]
     },
     "metadata": {
      "needs_background": "light"
     },
     "output_type": "display_data"
    }
   ],
   "source": [
    "# Build the scatter plots for latitude vs. cloudiness.\n",
    "plt.scatter(lats,\n",
    "            cloudiness,\n",
    "            edgecolor=\"black\", linewidths=1, marker=\"o\",\n",
    "            alpha=0.8, label=\"Cities\")\n",
    "\n",
    "# Incorporate the other graph properties.\n",
    "plt.title(f\"City Latitude vs. Cloudiness (%) \"+ time.strftime(\"%x\"))\n",
    "plt.ylabel(\"Cloudiness (%)\")\n",
    "plt.xlabel(\"Latitude\")\n",
    "plt.grid(True)\n",
    "# Save the figure.\n",
    "plt.savefig(\"weather_data/Fig3.png\")\n",
    "# Show plot.\n",
    "plt.show()"
   ]
  },
  {
   "cell_type": "code",
   "execution_count": 25,
   "metadata": {},
   "outputs": [
    {
     "data": {
      "image/png": "[encoded data removed]",
      "text/plain": [
       "<Figure size 432x288 with 1 Axes>"
      ]
     },
     "metadata": {
      "needs_background": "light"
     },
     "output_type": "display_data"
    }
   ],
   "source": [
    "# Build the scatter plots for latitude vs. wind speed.\n",
    "plt.scatter(lats,\n",
    "            wind_speed,\n",
    "            edgecolor=\"black\", linewidths=1, marker=\"o\",\n",
    "            alpha=0.8, label=\"Cities\")\n",
    "\n",
    "# Incorporate the other graph properties.\n",
    "plt.title(f\"City Latitude vs. Wind Speed \"+ time.strftime(\"%x\"))\n",
    "plt.ylabel(\"Wind Speed (mph)\")\n",
    "plt.xlabel(\"Latitude\")\n",
    "plt.grid(True)\n",
    "# Save the figure.\n",
    "plt.savefig(\"weather_data/Fig4.png\")\n",
    "# Show plot.\n",
    "plt.show()"
   ]
  },
  {
   "cell_type": "markdown",
   "metadata": {},
   "source": [
    "# Linear Regression with SciPy"
   ]
  },
  {
   "cell_type": "code",
   "execution_count": 26,
   "metadata": {},
   "outputs": [],
   "source": [
    "# Import linear regression from the SciPy stats module.\n",
    "from scipy.stats import linregress"
   ]
  },
  {
   "cell_type": "code",
   "execution_count": 27,
   "metadata": {},
   "outputs": [],
   "source": [
    "# Create an equal number of latitudes and temperatures.\n",
    "lats = [42.5, 43.9, 8.1, 36.8, 79.9, 69.1, 25.7, 15.3, 12.7, 64.5]\n",
    "temps = [80.5, 75.3, 90.9, 90.0, 40.4, 62.3, 85.4, 79.6, 72.5, 72.0]"
   ]
  },
  {
   "cell_type": "code",
   "execution_count": 28,
   "metadata": {},
   "outputs": [
    {
     "name": "stdout",
     "output_type": "stream",
     "text": [
      "y = -0.45x + 92.94\n",
      "The p-value is: 0.011\n"
     ]
    }
   ],
   "source": [
    "# Perform linear regression.\n",
    "(slope, intercept, r_value, p_value, std_err) = linregress(lats, temps)\n",
    "# Get the equation of the line.\n",
    "line_eq = \"y = \" + str(round(slope,2)) + \"x + \" + str(round(intercept,2))\n",
    "print(line_eq)\n",
    "print(f\"The p-value is: {p_value:.3f}\")"
   ]
  },
  {
   "cell_type": "code",
   "execution_count": 29,
   "metadata": {},
   "outputs": [],
   "source": [
    "# Calculate the regression line \"y values\" from the slope and intercept.\n",
    "regress_values = [(lat * slope + intercept) for lat in lats]"
   ]
  },
  {
   "cell_type": "code",
   "execution_count": 30,
   "metadata": {},
   "outputs": [
    {
     "data": {
      "image/png": "[encoded data removed]",
      "text/plain": [
       "<Figure size 432x288 with 1 Axes>"
      ]
     },
     "metadata": {
      "needs_background": "light"
     },
     "output_type": "display_data"
    }
   ],
   "source": [
    "# Create a scatter plot of the x and y values.\n",
    "plt.scatter(lats,temps)\n",
    "# Plot the regression line with the x-values and the y coordinates based on the intercept and slope.\n",
    "plt.plot(lats,regress_values,\"r\")\n",
    "# Annotate the text for the line equation and add its coordinates.\n",
    "plt.annotate(line_eq, (10,40), fontsize=15, color=\"red\")\n",
    "plt.xlabel('Latitude')\n",
    "plt.ylabel('Temp')\n",
    "plt.show()"
   ]
  },
  {
   "cell_type": "code",
   "execution_count": 31,
   "metadata": {},
   "outputs": [],
   "source": [
    "# Create a function to create perform linear regression on the weather data\n",
    "# and plot a regression line and the equation with the data.  \n",
    "def plot_linear_regression(x_values, y_values, title, y_label, text_coordinates):\n",
    "    \n",
    "    # Run regression on hemisphere weather data.\n",
    "    (slope, intercept, r_value, p_value, std_err) = linregress(x_values, y_values)\n",
    "    \n",
    "    # Calculate the regression line \"y values\" from the slope and intercept.\n",
    "    regress_values = x_values * slope + intercept\n",
    "    # Get the equation of the line.\n",
    "    line_eq = \"y = \" + str(round(slope,2)) + \"x + \" + str(round(intercept,2))\n",
    "    # Create a scatter plot and plot the regression line.\n",
    "    plt.scatter(x_values,y_values)\n",
    "    plt.plot(x_values,regress_values,\"r\")\n",
    "    # Annotate the text for the line equation.\n",
    "    plt.annotate(line_eq, text_coordinates, fontsize=15, color=\"red\")\n",
    "    plt.xlabel('Latitude')\n",
    "    plt.ylabel(y_label)\n",
    "    plt.show()"
   ]
  },
  {
   "cell_type": "code",
   "execution_count": 32,
   "metadata": {},
   "outputs": [],
   "source": [
    "# Create Northern and Southern Hemisphere DataFrames.\n",
    "northern_hemi_df = city_data_df.loc[(city_data_df[\"Lat\"] >= 0)]\n",
    "southern_hemi_df = city_data_df.loc[(city_data_df[\"Lat\"] < 0)]"
   ]
  },
  {
   "cell_type": "code",
   "execution_count": 33,
   "metadata": {},
   "outputs": [
    {
     "data": {
      "image/png": "[encoded data removed]",
      "text/plain": [
       "<Figure size 432x288 with 1 Axes>"
      ]
     },
     "metadata": {
      "needs_background": "light"
     },
     "output_type": "display_data"
    }
   ],
   "source": [
    "# Linear regression on the Northern Hemisphere\n",
    "x_values = northern_hemi_df[\"Lat\"]\n",
    "y_values = northern_hemi_df[\"Max Temp\"]\n",
    "# Call the function.\n",
    "plot_linear_regression(x_values, y_values,\n",
    "                       'Linear Regression on the Northern Hemisphere for Maximum Temperature', 'Max Temp',(10,40))"
   ]
  },
  {
   "cell_type": "code",
   "execution_count": 34,
   "metadata": {},
   "outputs": [
    {
     "data": {
      "image/png": "[encoded data removed]",
      "text/plain": [
       "<Figure size 432x288 with 1 Axes>"
      ]
     },
     "metadata": {
      "needs_background": "light"
     },
     "output_type": "display_data"
    }
   ],
   "source": [
    "# Linear regression on the Southern Hemisphere\n",
    "x_values = southern_hemi_df[\"Lat\"]\n",
    "y_values = southern_hemi_df[\"Max Temp\"]\n",
    "# Call the function.\n",
    "plot_linear_regression(x_values, y_values,\n",
    "                       'Linear Regression on the Southern Hemisphere for Maximum Temperature', 'Max Temp',(-50,90))"
   ]
  },
  {
   "cell_type": "code",
   "execution_count": 35,
   "metadata": {},
   "outputs": [
    {
     "data": {
      "image/png": "[encoded data removed]",
      "text/plain": [
       "<Figure size 432x288 with 1 Axes>"
      ]
     },
     "metadata": {
      "needs_background": "light"
     },
     "output_type": "display_data"
    }
   ],
   "source": [
    "# Linear regression on the Northern Hemisphere\n",
    "x_values = northern_hemi_df[\"Lat\"]\n",
    "y_values = northern_hemi_df[\"Humidity\"]\n",
    "# Call the function.\n",
    "plot_linear_regression(x_values, y_values,\n",
    "                       'Linear Regression on the Northern Hemisphere for % Humidity', '% Humidity',(40,10))"
   ]
  },
  {
   "cell_type": "code",
   "execution_count": 36,
   "metadata": {},
   "outputs": [
    {
     "data": {
      "image/png": "[encoded data removed]",
      "text/plain": [
       "<Figure size 432x288 with 1 Axes>"
      ]
     },
     "metadata": {
      "needs_background": "light"
     },
     "output_type": "display_data"
    }
   ],
   "source": [
    "# Linear regression on the Southern Hemisphere\n",
    "x_values = southern_hemi_df[\"Lat\"]\n",
    "y_values = southern_hemi_df[\"Humidity\"]\n",
    "# Call the function.\n",
    "plot_linear_regression(x_values, y_values,\n",
    "                       'Linear Regression on the Southern Hemisphere for % Humidity', '% Humidity',(-50,15))"
   ]
  },
  {
   "cell_type": "code",
   "execution_count": 37,
   "metadata": {},
   "outputs": [
    {
     "data": {
      "image/png": "[encoded data removed]",
      "text/plain": [
       "<Figure size 432x288 with 1 Axes>"
      ]
     },
     "metadata": {
      "needs_background": "light"
     },
     "output_type": "display_data"
    }
   ],
   "source": [
    "# Linear regression on the Southern Hemisphere\n",
    "x_values = southern_hemi_df[\"Lat\"]\n",
    "y_values = southern_hemi_df[\"Cloudiness\"]\n",
    "# Call the function.\n",
    "plot_linear_regression(x_values, y_values,\n",
    "                       'Linear Regression on the Southern Hemisphere for % Cloudiness', '% Cloudiness',(-50,60))"
   ]
  },
  {
   "cell_type": "code",
   "execution_count": 38,
   "metadata": {},
   "outputs": [
    {
     "data": {
      "image/png": "[encoded data removed]",
      "text/plain": [
       "<Figure size 432x288 with 1 Axes>"
      ]
     },
     "metadata": {
      "needs_background": "light"
     },
     "output_type": "display_data"
    }
   ],
   "source": [
    "# Linear regression on the Northern Hemisphere\n",
    "x_values = northern_hemi_df[\"Lat\"]\n",
    "y_values = northern_hemi_df[\"Wind Speed\"]\n",
    "# Call the function.\n",
    "plot_linear_regression(x_values, y_values,\n",
    "                       'Linear Regression on the Northern Hemisphere for Wind Speed', 'Wind Speed',(40,35))"
   ]
  },
  {
   "cell_type": "code",
   "execution_count": 39,
   "metadata": {},
   "outputs": [
    {
     "data": {
      "image/png": "[encoded data removed]",
      "text/plain": [
       "<Figure size 432x288 with 1 Axes>"
      ]
     },
     "metadata": {
      "needs_background": "light"
     },
     "output_type": "display_data"
    }
   ],
   "source": [
    "# Linear regression on the Southern Hemisphere\n",
    "x_values = southern_hemi_df[\"Lat\"]\n",
    "y_values = southern_hemi_df[\"Wind Speed\"]\n",
    "# Call the function.\n",
    "plot_linear_regression(x_values, y_values,\n",
    "                       'Linear Regression on the Southern Hemisphere for Wind Speed', 'Wind Speed',(-50,35))"
   ]
  },
  {
   "cell_type": "markdown",
   "metadata": {},
   "source": [
    "# GMaps Visualization with API"
   ]
  },
  {
   "cell_type": "code",
   "execution_count": 40,
   "metadata": {},
   "outputs": [],
   "source": [
    "# Import the dependencies.\n",
    "import pandas as pd\n",
    "import gmaps\n",
    "import requests\n",
    "# Import the API key.\n",
    "from config import g_key"
   ]
  },
  {
   "cell_type": "code",
   "execution_count": 41,
   "metadata": {},
   "outputs": [
    {
     "data": {
      "text/html": [
       "<div>\n",
       "<style scoped>\n",
       "    .dataframe tbody tr th:only-of-type {\n",
       "        vertical-align: middle;\n",
       "    }\n",
       "\n",
       "    .dataframe tbody tr th {\n",
       "        vertical-align: top;\n",
       "    }\n",
       "\n",
       "    .dataframe thead th {\n",
       "        text-align: right;\n",
       "    }\n",
       "</style>\n",
       "<table border=\"1\" class=\"dataframe\">\n",
       "  <thead>\n",
       "    <tr style=\"text-align: right;\">\n",
       "      <th></th>\n",
       "      <th>City_ID</th>\n",
       "      <th>City</th>\n",
       "      <th>Lat</th>\n",
       "      <th>Lng</th>\n",
       "      <th>Max Temp</th>\n",
       "      <th>Humidity</th>\n",
       "      <th>Cloudiness</th>\n",
       "      <th>Wind Speed</th>\n",
       "      <th>Country</th>\n",
       "      <th>Date</th>\n",
       "    </tr>\n",
       "  </thead>\n",
       "  <tbody>\n",
       "    <tr>\n",
       "      <th>0</th>\n",
       "      <td>0</td>\n",
       "      <td>Rikitea</td>\n",
       "      <td>-23.12</td>\n",
       "      <td>-134.97</td>\n",
       "      <td>70.16</td>\n",
       "      <td>51</td>\n",
       "      <td>100</td>\n",
       "      <td>9.15</td>\n",
       "      <td>PF</td>\n",
       "      <td>2020-06-23 20:08:12</td>\n",
       "    </tr>\n",
       "    <tr>\n",
       "      <th>1</th>\n",
       "      <td>1</td>\n",
       "      <td>Hobart</td>\n",
       "      <td>-42.88</td>\n",
       "      <td>147.33</td>\n",
       "      <td>53.01</td>\n",
       "      <td>93</td>\n",
       "      <td>90</td>\n",
       "      <td>9.17</td>\n",
       "      <td>AU</td>\n",
       "      <td>2020-06-23 20:05:33</td>\n",
       "    </tr>\n",
       "    <tr>\n",
       "      <th>2</th>\n",
       "      <td>2</td>\n",
       "      <td>Tasiilaq</td>\n",
       "      <td>65.61</td>\n",
       "      <td>-37.64</td>\n",
       "      <td>48.20</td>\n",
       "      <td>66</td>\n",
       "      <td>75</td>\n",
       "      <td>17.22</td>\n",
       "      <td>GL</td>\n",
       "      <td>2020-06-23 20:08:12</td>\n",
       "    </tr>\n",
       "    <tr>\n",
       "      <th>3</th>\n",
       "      <td>3</td>\n",
       "      <td>Llanes</td>\n",
       "      <td>43.42</td>\n",
       "      <td>-4.75</td>\n",
       "      <td>75.99</td>\n",
       "      <td>80</td>\n",
       "      <td>0</td>\n",
       "      <td>1.99</td>\n",
       "      <td>ES</td>\n",
       "      <td>2020-06-23 20:08:12</td>\n",
       "    </tr>\n",
       "    <tr>\n",
       "      <th>4</th>\n",
       "      <td>4</td>\n",
       "      <td>New Norfolk</td>\n",
       "      <td>-42.78</td>\n",
       "      <td>147.06</td>\n",
       "      <td>53.01</td>\n",
       "      <td>90</td>\n",
       "      <td>100</td>\n",
       "      <td>2.51</td>\n",
       "      <td>AU</td>\n",
       "      <td>2020-06-23 20:08:12</td>\n",
       "    </tr>\n",
       "  </tbody>\n",
       "</table>\n",
       "</div>"
      ],
      "text/plain": [
       "   City_ID         City    Lat     Lng  Max Temp  Humidity  Cloudiness  \\\n",
       "0        0      Rikitea -23.12 -134.97     70.16        51         100   \n",
       "1        1       Hobart -42.88  147.33     53.01        93          90   \n",
       "2        2     Tasiilaq  65.61  -37.64     48.20        66          75   \n",
       "3        3       Llanes  43.42   -4.75     75.99        80           0   \n",
       "4        4  New Norfolk -42.78  147.06     53.01        90         100   \n",
       "\n",
       "   Wind Speed Country                 Date  \n",
       "0        9.15      PF  2020-06-23 20:08:12  \n",
       "1        9.17      AU  2020-06-23 20:05:33  \n",
       "2       17.22      GL  2020-06-23 20:08:12  \n",
       "3        1.99      ES  2020-06-23 20:08:12  \n",
       "4        2.51      AU  2020-06-23 20:08:12  "
      ]
     },
     "execution_count": 41,
     "metadata": {},
     "output_type": "execute_result"
    }
   ],
   "source": [
    "# Store the CSV you saved created in part one into a DataFrame.\n",
    "city_data_df = pd.read_csv(\"weather_data/cities.csv\")\n",
    "city_data_df.head()"
   ]
  },
  {
   "cell_type": "code",
   "execution_count": 42,
   "metadata": {},
   "outputs": [],
   "source": [
    "# Configure gmaps to use your Google API key.\n",
    "gmaps.configure(api_key=g_key)"
   ]
  },
  {
   "cell_type": "code",
   "execution_count": 45,
   "metadata": {},
   "outputs": [
    {
     "data": {
      "application/vnd.jupyter.widget-view+json": {
       "model_id": "1fd3a88e876d443db4b46a6797052587",
       "version_major": 2,
       "version_minor": 0
      },
      "text/plain": [
       "Figure(layout=FigureLayout(height='420px'))"
      ]
     },
     "metadata": {},
     "output_type": "display_data"
    }
   ],
   "source": [
    "# Heatmap of temperature\n",
    "# Get the latitude and longitude.\n",
    "locations = city_data_df[[\"Lat\", \"Lng\"]]\n",
    "# Get the maximum temperature.\n",
    "max_temp = city_data_df[\"Max Temp\"]\n",
    "# Assign the figure variable.\n",
    "fig = gmaps.figure()\n",
    "# Assign the heatmap variable.\n",
    "heat_layer = gmaps.heatmap_layer(locations, weights=max_temp)\n",
    "# Add the heatmap layer.\n",
    "fig.add_layer(heat_layer)\n",
    "# Call the figure to plot the data.\n",
    "fig"
   ]
  },
  {
   "cell_type": "code",
   "execution_count": 46,
   "metadata": {},
   "outputs": [],
   "source": [
    "heat_layer = gmaps.heatmap_layer(locations, weights=max_temp)\n",
    "# Get the maximum temperature.\n",
    "max_temp = city_data_df[\"Max Temp\"]\n",
    "temps = []\n",
    "for temp in max_temp:\n",
    "    temps.append(max(temp, 0))"
   ]
  },
  {
   "cell_type": "code",
   "execution_count": 47,
   "metadata": {},
   "outputs": [],
   "source": [
    "fig = gmaps.figure(center=(30.0, 31.0), zoom_level=1.0)"
   ]
  },
  {
   "cell_type": "code",
   "execution_count": 48,
   "metadata": {},
   "outputs": [
    {
     "data": {
      "application/vnd.jupyter.widget-view+json": {
       "model_id": "b3497e8a5f0f4e57a4138117b097540a",
       "version_major": 2,
       "version_minor": 0
      },
      "text/plain": [
       "Figure(layout=FigureLayout(height='420px'))"
      ]
     },
     "metadata": {},
     "output_type": "display_data"
    }
   ],
   "source": [
    "# Heatmap of percent humidity\n",
    "locations = city_data_df[[\"Lat\", \"Lng\"]]\n",
    "humidity = city_data_df[\"Humidity\"]\n",
    "fig = gmaps.figure(center=(30.0, 31.0), zoom_level=1.5)\n",
    "heat_layer = gmaps.heatmap_layer(locations, weights=humidity, dissipating=False, max_intensity=300, point_radius=4)\n",
    "\n",
    "fig.add_layer(heat_layer)\n",
    "# Call the figure to plot the data.\n",
    "fig"
   ]
  },
  {
   "cell_type": "code",
   "execution_count": 50,
   "metadata": {
    "scrolled": true
   },
   "outputs": [
    {
     "name": "stdout",
     "output_type": "stream",
     "text": [
      "What is the minimum temperature you would like for your trip? 75\n",
      "What is the maximum temperature you would like for your trip? 90\n"
     ]
    }
   ],
   "source": [
    "# Ask the customer to add a minimum and maximum temperature value.\n",
    "min_temp = float(input(\"What is the minimum temperature you would like for your trip? \"))\n",
    "max_temp = float(input(\"What is the maximum temperature you would like for your trip? \"))"
   ]
  },
  {
   "cell_type": "code",
   "execution_count": 52,
   "metadata": {},
   "outputs": [
    {
     "data": {
      "text/html": [
       "<div>\n",
       "<style scoped>\n",
       "    .dataframe tbody tr th:only-of-type {\n",
       "        vertical-align: middle;\n",
       "    }\n",
       "\n",
       "    .dataframe tbody tr th {\n",
       "        vertical-align: top;\n",
       "    }\n",
       "\n",
       "    .dataframe thead th {\n",
       "        text-align: right;\n",
       "    }\n",
       "</style>\n",
       "<table border=\"1\" class=\"dataframe\">\n",
       "  <thead>\n",
       "    <tr style=\"text-align: right;\">\n",
       "      <th></th>\n",
       "      <th>City_ID</th>\n",
       "      <th>City</th>\n",
       "      <th>Lat</th>\n",
       "      <th>Lng</th>\n",
       "      <th>Max Temp</th>\n",
       "      <th>Humidity</th>\n",
       "      <th>Cloudiness</th>\n",
       "      <th>Wind Speed</th>\n",
       "      <th>Country</th>\n",
       "      <th>Date</th>\n",
       "    </tr>\n",
       "  </thead>\n",
       "  <tbody>\n",
       "    <tr>\n",
       "      <th>3</th>\n",
       "      <td>3</td>\n",
       "      <td>Llanes</td>\n",
       "      <td>43.42</td>\n",
       "      <td>-4.75</td>\n",
       "      <td>75.99</td>\n",
       "      <td>80</td>\n",
       "      <td>0</td>\n",
       "      <td>1.99</td>\n",
       "      <td>ES</td>\n",
       "      <td>2020-06-23 20:08:12</td>\n",
       "    </tr>\n",
       "    <tr>\n",
       "      <th>7</th>\n",
       "      <td>7</td>\n",
       "      <td>Hambantota</td>\n",
       "      <td>6.12</td>\n",
       "      <td>81.12</td>\n",
       "      <td>80.10</td>\n",
       "      <td>81</td>\n",
       "      <td>100</td>\n",
       "      <td>14.36</td>\n",
       "      <td>LK</td>\n",
       "      <td>2020-06-23 20:08:12</td>\n",
       "    </tr>\n",
       "    <tr>\n",
       "      <th>8</th>\n",
       "      <td>8</td>\n",
       "      <td>Butaritari</td>\n",
       "      <td>3.07</td>\n",
       "      <td>172.79</td>\n",
       "      <td>83.46</td>\n",
       "      <td>74</td>\n",
       "      <td>21</td>\n",
       "      <td>16.44</td>\n",
       "      <td>KI</td>\n",
       "      <td>2020-06-23 20:08:12</td>\n",
       "    </tr>\n",
       "    <tr>\n",
       "      <th>15</th>\n",
       "      <td>15</td>\n",
       "      <td>Kapaa</td>\n",
       "      <td>22.08</td>\n",
       "      <td>-159.32</td>\n",
       "      <td>82.00</td>\n",
       "      <td>74</td>\n",
       "      <td>40</td>\n",
       "      <td>10.29</td>\n",
       "      <td>US</td>\n",
       "      <td>2020-06-23 20:08:13</td>\n",
       "    </tr>\n",
       "    <tr>\n",
       "      <th>16</th>\n",
       "      <td>16</td>\n",
       "      <td>Cabo San Lucas</td>\n",
       "      <td>22.89</td>\n",
       "      <td>-109.91</td>\n",
       "      <td>88.00</td>\n",
       "      <td>38</td>\n",
       "      <td>40</td>\n",
       "      <td>5.82</td>\n",
       "      <td>MX</td>\n",
       "      <td>2020-06-23 20:08:13</td>\n",
       "    </tr>\n",
       "    <tr>\n",
       "      <th>17</th>\n",
       "      <td>17</td>\n",
       "      <td>Santo Antonio Do Ica</td>\n",
       "      <td>-3.10</td>\n",
       "      <td>-67.94</td>\n",
       "      <td>84.04</td>\n",
       "      <td>79</td>\n",
       "      <td>44</td>\n",
       "      <td>1.45</td>\n",
       "      <td>BR</td>\n",
       "      <td>2020-06-23 20:08:13</td>\n",
       "    </tr>\n",
       "    <tr>\n",
       "      <th>24</th>\n",
       "      <td>24</td>\n",
       "      <td>Sao Raimundo Nonato</td>\n",
       "      <td>-9.02</td>\n",
       "      <td>-42.70</td>\n",
       "      <td>81.39</td>\n",
       "      <td>53</td>\n",
       "      <td>37</td>\n",
       "      <td>9.89</td>\n",
       "      <td>BR</td>\n",
       "      <td>2020-06-23 20:08:07</td>\n",
       "    </tr>\n",
       "    <tr>\n",
       "      <th>27</th>\n",
       "      <td>27</td>\n",
       "      <td>Padang</td>\n",
       "      <td>-0.95</td>\n",
       "      <td>100.35</td>\n",
       "      <td>75.13</td>\n",
       "      <td>85</td>\n",
       "      <td>100</td>\n",
       "      <td>6.60</td>\n",
       "      <td>ID</td>\n",
       "      <td>2020-06-23 20:08:14</td>\n",
       "    </tr>\n",
       "    <tr>\n",
       "      <th>28</th>\n",
       "      <td>28</td>\n",
       "      <td>Atuona</td>\n",
       "      <td>-9.80</td>\n",
       "      <td>-139.03</td>\n",
       "      <td>79.54</td>\n",
       "      <td>70</td>\n",
       "      <td>6</td>\n",
       "      <td>15.19</td>\n",
       "      <td>PF</td>\n",
       "      <td>2020-06-23 20:08:14</td>\n",
       "    </tr>\n",
       "    <tr>\n",
       "      <th>31</th>\n",
       "      <td>31</td>\n",
       "      <td>Sinnamary</td>\n",
       "      <td>5.38</td>\n",
       "      <td>-52.95</td>\n",
       "      <td>79.03</td>\n",
       "      <td>89</td>\n",
       "      <td>100</td>\n",
       "      <td>10.67</td>\n",
       "      <td>GF</td>\n",
       "      <td>2020-06-23 20:08:14</td>\n",
       "    </tr>\n",
       "  </tbody>\n",
       "</table>\n",
       "</div>"
      ],
      "text/plain": [
       "    City_ID                  City    Lat     Lng  Max Temp  Humidity  \\\n",
       "3         3                Llanes  43.42   -4.75     75.99        80   \n",
       "7         7            Hambantota   6.12   81.12     80.10        81   \n",
       "8         8            Butaritari   3.07  172.79     83.46        74   \n",
       "15       15                 Kapaa  22.08 -159.32     82.00        74   \n",
       "16       16        Cabo San Lucas  22.89 -109.91     88.00        38   \n",
       "17       17  Santo Antonio Do Ica  -3.10  -67.94     84.04        79   \n",
       "24       24   Sao Raimundo Nonato  -9.02  -42.70     81.39        53   \n",
       "27       27                Padang  -0.95  100.35     75.13        85   \n",
       "28       28                Atuona  -9.80 -139.03     79.54        70   \n",
       "31       31             Sinnamary   5.38  -52.95     79.03        89   \n",
       "\n",
       "    Cloudiness  Wind Speed Country                 Date  \n",
       "3            0        1.99      ES  2020-06-23 20:08:12  \n",
       "7          100       14.36      LK  2020-06-23 20:08:12  \n",
       "8           21       16.44      KI  2020-06-23 20:08:12  \n",
       "15          40       10.29      US  2020-06-23 20:08:13  \n",
       "16          40        5.82      MX  2020-06-23 20:08:13  \n",
       "17          44        1.45      BR  2020-06-23 20:08:13  \n",
       "24          37        9.89      BR  2020-06-23 20:08:07  \n",
       "27         100        6.60      ID  2020-06-23 20:08:14  \n",
       "28           6       15.19      PF  2020-06-23 20:08:14  \n",
       "31         100       10.67      GF  2020-06-23 20:08:14  "
      ]
     },
     "execution_count": 52,
     "metadata": {},
     "output_type": "execute_result"
    }
   ],
   "source": [
    "# Filter the dataset to find the cities that fit the criteria.\n",
    "preferred_cities_df = city_data_df.loc[(city_data_df[\"Max Temp\"] <= max_temp) & \\\n",
    "                                       (city_data_df[\"Max Temp\"] >= min_temp)]\n",
    "preferred_cities_df.head(10)"
   ]
  },
  {
   "cell_type": "code",
   "execution_count": 53,
   "metadata": {},
   "outputs": [
    {
     "data": {
      "text/plain": [
       "City_ID       182\n",
       "City          182\n",
       "Lat           182\n",
       "Lng           182\n",
       "Max Temp      182\n",
       "Humidity      182\n",
       "Cloudiness    182\n",
       "Wind Speed    182\n",
       "Country       182\n",
       "Date          182\n",
       "dtype: int64"
      ]
     },
     "execution_count": 53,
     "metadata": {},
     "output_type": "execute_result"
    }
   ],
   "source": [
    "preferred_cities_df.count()"
   ]
  },
  {
   "cell_type": "code",
   "execution_count": 54,
   "metadata": {},
   "outputs": [
    {
     "data": {
      "text/html": [
       "<div>\n",
       "<style scoped>\n",
       "    .dataframe tbody tr th:only-of-type {\n",
       "        vertical-align: middle;\n",
       "    }\n",
       "\n",
       "    .dataframe tbody tr th {\n",
       "        vertical-align: top;\n",
       "    }\n",
       "\n",
       "    .dataframe thead th {\n",
       "        text-align: right;\n",
       "    }\n",
       "</style>\n",
       "<table border=\"1\" class=\"dataframe\">\n",
       "  <thead>\n",
       "    <tr style=\"text-align: right;\">\n",
       "      <th></th>\n",
       "      <th>City</th>\n",
       "      <th>Country</th>\n",
       "      <th>Max Temp</th>\n",
       "      <th>Lat</th>\n",
       "      <th>Lng</th>\n",
       "      <th>Hotel Name</th>\n",
       "    </tr>\n",
       "  </thead>\n",
       "  <tbody>\n",
       "    <tr>\n",
       "      <th>3</th>\n",
       "      <td>Llanes</td>\n",
       "      <td>ES</td>\n",
       "      <td>75.99</td>\n",
       "      <td>43.42</td>\n",
       "      <td>-4.75</td>\n",
       "      <td></td>\n",
       "    </tr>\n",
       "    <tr>\n",
       "      <th>7</th>\n",
       "      <td>Hambantota</td>\n",
       "      <td>LK</td>\n",
       "      <td>80.10</td>\n",
       "      <td>6.12</td>\n",
       "      <td>81.12</td>\n",
       "      <td></td>\n",
       "    </tr>\n",
       "    <tr>\n",
       "      <th>8</th>\n",
       "      <td>Butaritari</td>\n",
       "      <td>KI</td>\n",
       "      <td>83.46</td>\n",
       "      <td>3.07</td>\n",
       "      <td>172.79</td>\n",
       "      <td></td>\n",
       "    </tr>\n",
       "    <tr>\n",
       "      <th>15</th>\n",
       "      <td>Kapaa</td>\n",
       "      <td>US</td>\n",
       "      <td>82.00</td>\n",
       "      <td>22.08</td>\n",
       "      <td>-159.32</td>\n",
       "      <td></td>\n",
       "    </tr>\n",
       "    <tr>\n",
       "      <th>16</th>\n",
       "      <td>Cabo San Lucas</td>\n",
       "      <td>MX</td>\n",
       "      <td>88.00</td>\n",
       "      <td>22.89</td>\n",
       "      <td>-109.91</td>\n",
       "      <td></td>\n",
       "    </tr>\n",
       "  </tbody>\n",
       "</table>\n",
       "</div>"
      ],
      "text/plain": [
       "              City Country  Max Temp    Lat     Lng Hotel Name\n",
       "3           Llanes      ES     75.99  43.42   -4.75           \n",
       "7       Hambantota      LK     80.10   6.12   81.12           \n",
       "8       Butaritari      KI     83.46   3.07  172.79           \n",
       "15           Kapaa      US     82.00  22.08 -159.32           \n",
       "16  Cabo San Lucas      MX     88.00  22.89 -109.91           "
      ]
     },
     "execution_count": 54,
     "metadata": {},
     "output_type": "execute_result"
    }
   ],
   "source": [
    "# Create DataFrame called hotel_df to store hotel names along with city, country, max temp, and coordinates.\n",
    "hotel_df = preferred_cities_df[[\"City\", \"Country\", \"Max Temp\", \"Lat\", \"Lng\"]].copy()\n",
    "hotel_df[\"Hotel Name\"] = \"\"\n",
    "hotel_df.head()"
   ]
  },
  {
   "cell_type": "code",
   "execution_count": 55,
   "metadata": {},
   "outputs": [],
   "source": [
    "# Set parameters to search for a hotel.\n",
    "params = {\n",
    "    \"radius\": 5000,\n",
    "    \"type\": \"lodging\",\n",
    "    \"key\": g_key\n",
    "}"
   ]
  },
  {
   "cell_type": "code",
   "execution_count": 56,
   "metadata": {},
   "outputs": [],
   "source": [
    "# Dependencies and Setup\n",
    "import requests\n",
    "import gmaps"
   ]
  },
  {
   "cell_type": "code",
   "execution_count": 57,
   "metadata": {},
   "outputs": [],
   "source": [
    "# Set the parameters to search for a hotel in Paris.\n",
    "params = {\n",
    "    \"radius\": 5000,\n",
    "    \"types\": \"lodging\",\n",
    "    \"key\": g_key,\n",
    "    \"location\": \"48.8566, 2.3522\"}\n",
    "# Use base URL to search for hotels in Paris.\n",
    "base_url = \"https://maps.googleapis.com/maps/api/place/nearbysearch/json\"\n",
    "# Make request and get the JSON data from the search.\n",
    "hotels = requests.get(base_url, params=params).json()"
   ]
  },
  {
   "cell_type": "code",
   "execution_count": 58,
   "metadata": {},
   "outputs": [
    {
     "name": "stdout",
     "output_type": "stream",
     "text": [
      "Hotel not found... skipping.\n",
      "Hotel not found... skipping.\n",
      "Hotel not found... skipping.\n",
      "Hotel not found... skipping.\n",
      "Hotel not found... skipping.\n",
      "Hotel not found... skipping.\n",
      "Hotel not found... skipping.\n",
      "Hotel not found... skipping.\n",
      "Hotel not found... skipping.\n",
      "Hotel not found... skipping.\n",
      "Hotel not found... skipping.\n",
      "Hotel not found... skipping.\n"
     ]
    }
   ],
   "source": [
    "# Iterate through the DataFrame.\n",
    "for index, row in hotel_df.iterrows():\n",
    "    # Get the latitude and longitude.\n",
    "    lat = row[\"Lat\"]\n",
    "    lng = row[\"Lng\"]\n",
    "\n",
    "    # Add the latitude and longitude to location key for the params dictionary.\n",
    "    params[\"location\"] = f\"{lat},{lng}\"\n",
    "\n",
    "    # Use the search term: \"lodging\" and our latitude and longitude.\n",
    "    base_url = \"https://maps.googleapis.com/maps/api/place/nearbysearch/json\"\n",
    "    # Make request and get the JSON data from the search.\n",
    "    hotels = requests.get(base_url, params=params).json()\n",
    "    # Grab the first hotel from the results and store the name.\n",
    "    try:\n",
    "        hotel_df.loc[index, \"Hotel Name\"] = hotels[\"results\"][0][\"name\"]\n",
    "    except (IndexError):\n",
    "        print(\"Hotel not found... skipping.\")"
   ]
  },
  {
   "cell_type": "code",
   "execution_count": 59,
   "metadata": {},
   "outputs": [
    {
     "data": {
      "application/vnd.jupyter.widget-view+json": {
       "model_id": "f668312a00444319a98002ea12c958da",
       "version_major": 2,
       "version_minor": 0
      },
      "text/plain": [
       "Figure(layout=FigureLayout(height='420px'))"
      ]
     },
     "metadata": {},
     "output_type": "display_data"
    }
   ],
   "source": [
    "# Add a heatmap of temperature for the vacation spots.\n",
    "locations = hotel_df[[\"Lat\", \"Lng\"]]\n",
    "max_temp = hotel_df[\"Max Temp\"]\n",
    "fig = gmaps.figure(center=(30.0, 31.0), zoom_level=1.5)\n",
    "heat_layer = gmaps.heatmap_layer(locations, weights=max_temp, dissipating=False,\n",
    "             max_intensity=300, point_radius=4)\n",
    "\n",
    "fig.add_layer(heat_layer)\n",
    "# Call the figure to plot the data.\n",
    "fig"
   ]
  },
  {
   "cell_type": "code",
   "execution_count": 60,
   "metadata": {},
   "outputs": [
    {
     "data": {
      "application/vnd.jupyter.widget-view+json": {
       "model_id": "41ae59edb7544f6ea1ac380c79e53939",
       "version_major": 2,
       "version_minor": 0
      },
      "text/plain": [
       "Figure(layout=FigureLayout(height='420px'))"
      ]
     },
     "metadata": {},
     "output_type": "display_data"
    }
   ],
   "source": [
    "# Add a heatmap of temperature for the vacation spots and marker for each city.\n",
    "locations = hotel_df[[\"Lat\", \"Lng\"]]\n",
    "max_temp = hotel_df[\"Max Temp\"]\n",
    "fig = gmaps.figure(center=(30.0, 31.0), zoom_level=1.5)\n",
    "heat_layer = gmaps.heatmap_layer(locations, weights=max_temp, \n",
    "             dissipating=False, max_intensity=300, point_radius=4)\n",
    "marker_layer = gmaps.marker_layer(locations)\n",
    "fig.add_layer(heat_layer)\n",
    "fig.add_layer(marker_layer)\n",
    "# Call the figure to plot the data.\n",
    "fig"
   ]
  },
  {
   "cell_type": "code",
   "execution_count": 61,
   "metadata": {},
   "outputs": [],
   "source": [
    "info_box_template = \"\"\"\n",
    "<dl>\n",
    "<dt>Hotel Name</dt><dd>{Hotel Name}</dd>\n",
    "<dt>City</dt><dd>{City}</dd>\n",
    "<dt>Country</dt><dd>{Country}</dd>\n",
    "<dt>Max Temp</dt><dd>{Max Temp} °F</dd>\n",
    "</dl>\n",
    "\"\"\"\n",
    "# Store the DataFrame Row.\n",
    "hotel_info = [info_box_template.format(**row) for index, row in hotel_df.iterrows()]"
   ]
  },
  {
   "cell_type": "code",
   "execution_count": 62,
   "metadata": {},
   "outputs": [
    {
     "data": {
      "application/vnd.jupyter.widget-view+json": {
       "model_id": "18c6756df6674ab1b6786f006d7bf508",
       "version_major": 2,
       "version_minor": 0
      },
      "text/plain": [
       "Figure(layout=FigureLayout(height='420px'))"
      ]
     },
     "metadata": {},
     "output_type": "display_data"
    }
   ],
   "source": [
    "# Add a heatmap of temperature for the vacation spots and a pop-up marker for each city.\n",
    "locations = hotel_df[[\"Lat\", \"Lng\"]]\n",
    "max_temp = hotel_df[\"Max Temp\"]\n",
    "fig = gmaps.figure(center=(30.0, 31.0), zoom_level=1.5)\n",
    "heat_layer = gmaps.heatmap_layer(locations, weights=max_temp,dissipating=False,\n",
    "             max_intensity=300, point_radius=4)\n",
    "marker_layer = gmaps.marker_layer(locations, info_box_content=hotel_info)\n",
    "fig.add_layer(heat_layer)\n",
    "fig.add_layer(marker_layer)\n",
    "\n",
    "# Call the figure to plot the data.\n",
    "fig"
   ]
  },
  {
   "cell_type": "code",
   "execution_count": null,
   "metadata": {},
   "outputs": [],
   "source": []
  }
 ],
 "metadata": {
  "kernelspec": {
   "display_name": "Python 3",
   "language": "python",
   "name": "python3"
  },
  "language_info": {
   "codemirror_mode": {
    "name": "ipython",
    "version": 3
   },
   "file_extension": ".py",
   "mimetype": "text/x-python",
   "name": "python",
   "nbconvert_exporter": "python",
   "pygments_lexer": "ipython3",
   "version": "3.7.3"
  }
 },
 "nbformat": 4,
 "nbformat_minor": 4
}
